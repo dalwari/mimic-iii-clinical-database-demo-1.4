{
 "cells": [
  {
   "cell_type": "code",
   "execution_count": 91,
   "id": "f6d65e3e",
   "metadata": {},
   "outputs": [],
   "source": [
    "import pandas as pd\n",
    "import numpy as np\n",
    "import matplotlib.pyplot as plt\n",
    "import nltk\n",
    "from nltk import word_tokenize\n",
    "import os.path\n",
    "import string\n",
    "from ollama import Client\n",
    "import random\n",
    "import random"
   ]
  },
  {
   "cell_type": "code",
   "execution_count": 92,
   "id": "f917d58c",
   "metadata": {},
   "outputs": [
    {
     "data": {
      "application/vnd.microsoft.datawrangler.viewer.v0+json": {
       "columns": [
        {
         "name": "index",
         "rawType": "int64",
         "type": "integer"
        },
        {
         "name": "ROW_ID",
         "rawType": "int64",
         "type": "integer"
        },
        {
         "name": "SUBJECT_ID",
         "rawType": "int64",
         "type": "integer"
        },
        {
         "name": "HADM_ID",
         "rawType": "int64",
         "type": "integer"
        },
        {
         "name": "ADMITTIME",
         "rawType": "datetime64[ns]",
         "type": "datetime"
        },
        {
         "name": "DISCHTIME",
         "rawType": "datetime64[ns]",
         "type": "datetime"
        },
        {
         "name": "DEATHTIME",
         "rawType": "datetime64[ns]",
         "type": "datetime"
        },
        {
         "name": "ADMISSION_TYPE",
         "rawType": "object",
         "type": "string"
        },
        {
         "name": "ADMISSION_LOCATION",
         "rawType": "object",
         "type": "string"
        },
        {
         "name": "DISCHARGE_LOCATION",
         "rawType": "object",
         "type": "string"
        },
        {
         "name": "INSURANCE",
         "rawType": "object",
         "type": "string"
        },
        {
         "name": "LANGUAGE",
         "rawType": "object",
         "type": "unknown"
        },
        {
         "name": "RELIGION",
         "rawType": "object",
         "type": "string"
        },
        {
         "name": "MARITAL_STATUS",
         "rawType": "object",
         "type": "unknown"
        },
        {
         "name": "ETHNICITY",
         "rawType": "object",
         "type": "string"
        },
        {
         "name": "EDREGTIME",
         "rawType": "object",
         "type": "unknown"
        },
        {
         "name": "EDOUTTIME",
         "rawType": "object",
         "type": "unknown"
        },
        {
         "name": "DIAGNOSIS",
         "rawType": "object",
         "type": "string"
        },
        {
         "name": "HOSPITAL_EXPIRE_FLAG",
         "rawType": "int64",
         "type": "integer"
        },
        {
         "name": "HAS_CHARTEVENTS_DATA",
         "rawType": "int64",
         "type": "integer"
        }
       ],
       "conversionMethod": "pd.DataFrame",
       "ref": "cc1f1756-15bc-47ea-b451-a2d5f0d1d034",
       "rows": [
        [
         "0",
         "1",
         "2",
         "163353",
         "2138-07-17 19:04:00",
         "2138-07-21 15:48:00",
         null,
         "NEWBORN",
         "PHYS REFERRAL/NORMAL DELI",
         "HOME",
         "Private",
         null,
         "NOT SPECIFIED",
         null,
         "ASIAN",
         null,
         null,
         "NEWBORN",
         "0",
         "1"
        ],
        [
         "1",
         "2",
         "3",
         "145834",
         "2101-10-20 19:08:00",
         "2101-10-31 13:58:00",
         null,
         "EMERGENCY",
         "EMERGENCY ROOM ADMIT",
         "SNF",
         "Medicare",
         null,
         "CATHOLIC",
         "MARRIED",
         "WHITE",
         "2101-10-20 17:09:00.000",
         "2101-10-20 19:24:00.000",
         "HYPOTENSION",
         "0",
         "1"
        ],
        [
         "2",
         "3",
         "4",
         "185777",
         "2191-03-16 00:28:00",
         "2191-03-23 18:41:00",
         null,
         "EMERGENCY",
         "EMERGENCY ROOM ADMIT",
         "HOME WITH HOME IV PROVIDR",
         "Private",
         null,
         "PROTESTANT QUAKER",
         "SINGLE",
         "WHITE",
         "2191-03-15 13:10:00.000",
         "2191-03-16 01:10:00.000",
         "FEVER,DEHYDRATION,FAILURE TO THRIVE",
         "0",
         "1"
        ],
        [
         "3",
         "4",
         "5",
         "178980",
         "2103-02-02 04:31:00",
         "2103-02-04 12:15:00",
         null,
         "NEWBORN",
         "PHYS REFERRAL/NORMAL DELI",
         "HOME",
         "Private",
         null,
         "BUDDHIST",
         null,
         "ASIAN",
         null,
         null,
         "NEWBORN",
         "0",
         "1"
        ],
        [
         "4",
         "5",
         "6",
         "107064",
         "2175-05-30 07:15:00",
         "2175-06-15 16:00:00",
         null,
         "ELECTIVE",
         "PHYS REFERRAL/NORMAL DELI",
         "HOME HEALTH CARE",
         "Medicare",
         "ENGL",
         "NOT SPECIFIED",
         "MARRIED",
         "WHITE",
         null,
         null,
         "CHRONIC RENAL FAILURE/SDA",
         "0",
         "1"
        ]
       ],
       "shape": {
        "columns": 19,
        "rows": 5
       }
      },
      "text/html": [
       "<div>\n",
       "<style scoped>\n",
       "    .dataframe tbody tr th:only-of-type {\n",
       "        vertical-align: middle;\n",
       "    }\n",
       "\n",
       "    .dataframe tbody tr th {\n",
       "        vertical-align: top;\n",
       "    }\n",
       "\n",
       "    .dataframe thead th {\n",
       "        text-align: right;\n",
       "    }\n",
       "</style>\n",
       "<table border=\"1\" class=\"dataframe\">\n",
       "  <thead>\n",
       "    <tr style=\"text-align: right;\">\n",
       "      <th></th>\n",
       "      <th>ROW_ID</th>\n",
       "      <th>SUBJECT_ID</th>\n",
       "      <th>HADM_ID</th>\n",
       "      <th>ADMITTIME</th>\n",
       "      <th>DISCHTIME</th>\n",
       "      <th>DEATHTIME</th>\n",
       "      <th>ADMISSION_TYPE</th>\n",
       "      <th>ADMISSION_LOCATION</th>\n",
       "      <th>DISCHARGE_LOCATION</th>\n",
       "      <th>INSURANCE</th>\n",
       "      <th>LANGUAGE</th>\n",
       "      <th>RELIGION</th>\n",
       "      <th>MARITAL_STATUS</th>\n",
       "      <th>ETHNICITY</th>\n",
       "      <th>EDREGTIME</th>\n",
       "      <th>EDOUTTIME</th>\n",
       "      <th>DIAGNOSIS</th>\n",
       "      <th>HOSPITAL_EXPIRE_FLAG</th>\n",
       "      <th>HAS_CHARTEVENTS_DATA</th>\n",
       "    </tr>\n",
       "  </thead>\n",
       "  <tbody>\n",
       "    <tr>\n",
       "      <th>0</th>\n",
       "      <td>1</td>\n",
       "      <td>2</td>\n",
       "      <td>163353</td>\n",
       "      <td>2138-07-17 19:04:00</td>\n",
       "      <td>2138-07-21 15:48:00</td>\n",
       "      <td>NaT</td>\n",
       "      <td>NEWBORN</td>\n",
       "      <td>PHYS REFERRAL/NORMAL DELI</td>\n",
       "      <td>HOME</td>\n",
       "      <td>Private</td>\n",
       "      <td>NaN</td>\n",
       "      <td>NOT SPECIFIED</td>\n",
       "      <td>NaN</td>\n",
       "      <td>ASIAN</td>\n",
       "      <td>NaN</td>\n",
       "      <td>NaN</td>\n",
       "      <td>NEWBORN</td>\n",
       "      <td>0</td>\n",
       "      <td>1</td>\n",
       "    </tr>\n",
       "    <tr>\n",
       "      <th>1</th>\n",
       "      <td>2</td>\n",
       "      <td>3</td>\n",
       "      <td>145834</td>\n",
       "      <td>2101-10-20 19:08:00</td>\n",
       "      <td>2101-10-31 13:58:00</td>\n",
       "      <td>NaT</td>\n",
       "      <td>EMERGENCY</td>\n",
       "      <td>EMERGENCY ROOM ADMIT</td>\n",
       "      <td>SNF</td>\n",
       "      <td>Medicare</td>\n",
       "      <td>NaN</td>\n",
       "      <td>CATHOLIC</td>\n",
       "      <td>MARRIED</td>\n",
       "      <td>WHITE</td>\n",
       "      <td>2101-10-20 17:09:00.000</td>\n",
       "      <td>2101-10-20 19:24:00.000</td>\n",
       "      <td>HYPOTENSION</td>\n",
       "      <td>0</td>\n",
       "      <td>1</td>\n",
       "    </tr>\n",
       "    <tr>\n",
       "      <th>2</th>\n",
       "      <td>3</td>\n",
       "      <td>4</td>\n",
       "      <td>185777</td>\n",
       "      <td>2191-03-16 00:28:00</td>\n",
       "      <td>2191-03-23 18:41:00</td>\n",
       "      <td>NaT</td>\n",
       "      <td>EMERGENCY</td>\n",
       "      <td>EMERGENCY ROOM ADMIT</td>\n",
       "      <td>HOME WITH HOME IV PROVIDR</td>\n",
       "      <td>Private</td>\n",
       "      <td>NaN</td>\n",
       "      <td>PROTESTANT QUAKER</td>\n",
       "      <td>SINGLE</td>\n",
       "      <td>WHITE</td>\n",
       "      <td>2191-03-15 13:10:00.000</td>\n",
       "      <td>2191-03-16 01:10:00.000</td>\n",
       "      <td>FEVER,DEHYDRATION,FAILURE TO THRIVE</td>\n",
       "      <td>0</td>\n",
       "      <td>1</td>\n",
       "    </tr>\n",
       "    <tr>\n",
       "      <th>3</th>\n",
       "      <td>4</td>\n",
       "      <td>5</td>\n",
       "      <td>178980</td>\n",
       "      <td>2103-02-02 04:31:00</td>\n",
       "      <td>2103-02-04 12:15:00</td>\n",
       "      <td>NaT</td>\n",
       "      <td>NEWBORN</td>\n",
       "      <td>PHYS REFERRAL/NORMAL DELI</td>\n",
       "      <td>HOME</td>\n",
       "      <td>Private</td>\n",
       "      <td>NaN</td>\n",
       "      <td>BUDDHIST</td>\n",
       "      <td>NaN</td>\n",
       "      <td>ASIAN</td>\n",
       "      <td>NaN</td>\n",
       "      <td>NaN</td>\n",
       "      <td>NEWBORN</td>\n",
       "      <td>0</td>\n",
       "      <td>1</td>\n",
       "    </tr>\n",
       "    <tr>\n",
       "      <th>4</th>\n",
       "      <td>5</td>\n",
       "      <td>6</td>\n",
       "      <td>107064</td>\n",
       "      <td>2175-05-30 07:15:00</td>\n",
       "      <td>2175-06-15 16:00:00</td>\n",
       "      <td>NaT</td>\n",
       "      <td>ELECTIVE</td>\n",
       "      <td>PHYS REFERRAL/NORMAL DELI</td>\n",
       "      <td>HOME HEALTH CARE</td>\n",
       "      <td>Medicare</td>\n",
       "      <td>ENGL</td>\n",
       "      <td>NOT SPECIFIED</td>\n",
       "      <td>MARRIED</td>\n",
       "      <td>WHITE</td>\n",
       "      <td>NaN</td>\n",
       "      <td>NaN</td>\n",
       "      <td>CHRONIC RENAL FAILURE/SDA</td>\n",
       "      <td>0</td>\n",
       "      <td>1</td>\n",
       "    </tr>\n",
       "  </tbody>\n",
       "</table>\n",
       "</div>"
      ],
      "text/plain": [
       "   ROW_ID  SUBJECT_ID  HADM_ID           ADMITTIME           DISCHTIME  \\\n",
       "0       1           2   163353 2138-07-17 19:04:00 2138-07-21 15:48:00   \n",
       "1       2           3   145834 2101-10-20 19:08:00 2101-10-31 13:58:00   \n",
       "2       3           4   185777 2191-03-16 00:28:00 2191-03-23 18:41:00   \n",
       "3       4           5   178980 2103-02-02 04:31:00 2103-02-04 12:15:00   \n",
       "4       5           6   107064 2175-05-30 07:15:00 2175-06-15 16:00:00   \n",
       "\n",
       "  DEATHTIME ADMISSION_TYPE         ADMISSION_LOCATION  \\\n",
       "0       NaT        NEWBORN  PHYS REFERRAL/NORMAL DELI   \n",
       "1       NaT      EMERGENCY       EMERGENCY ROOM ADMIT   \n",
       "2       NaT      EMERGENCY       EMERGENCY ROOM ADMIT   \n",
       "3       NaT        NEWBORN  PHYS REFERRAL/NORMAL DELI   \n",
       "4       NaT       ELECTIVE  PHYS REFERRAL/NORMAL DELI   \n",
       "\n",
       "          DISCHARGE_LOCATION INSURANCE LANGUAGE           RELIGION  \\\n",
       "0                       HOME   Private      NaN      NOT SPECIFIED   \n",
       "1                        SNF  Medicare      NaN           CATHOLIC   \n",
       "2  HOME WITH HOME IV PROVIDR   Private      NaN  PROTESTANT QUAKER   \n",
       "3                       HOME   Private      NaN           BUDDHIST   \n",
       "4           HOME HEALTH CARE  Medicare     ENGL      NOT SPECIFIED   \n",
       "\n",
       "  MARITAL_STATUS ETHNICITY                EDREGTIME                EDOUTTIME  \\\n",
       "0            NaN     ASIAN                      NaN                      NaN   \n",
       "1        MARRIED     WHITE  2101-10-20 17:09:00.000  2101-10-20 19:24:00.000   \n",
       "2         SINGLE     WHITE  2191-03-15 13:10:00.000  2191-03-16 01:10:00.000   \n",
       "3            NaN     ASIAN                      NaN                      NaN   \n",
       "4        MARRIED     WHITE                      NaN                      NaN   \n",
       "\n",
       "                             DIAGNOSIS  HOSPITAL_EXPIRE_FLAG  \\\n",
       "0                              NEWBORN                     0   \n",
       "1                          HYPOTENSION                     0   \n",
       "2  FEVER,DEHYDRATION,FAILURE TO THRIVE                     0   \n",
       "3                              NEWBORN                     0   \n",
       "4            CHRONIC RENAL FAILURE/SDA                     0   \n",
       "\n",
       "   HAS_CHARTEVENTS_DATA  \n",
       "0                     1  \n",
       "1                     1  \n",
       "2                     1  \n",
       "3                     1  \n",
       "4                     1  "
      ]
     },
     "execution_count": 92,
     "metadata": {},
     "output_type": "execute_result"
    }
   ],
   "source": [
    "df_adm = pd.read_csv(r\"D:\\UT_Austin\\sem2\\mimic-iii-clinical-database-demo-1.4\\admissions_master.csv\")\n",
    "df_adm.columns=df_adm.columns.str.upper()\n",
    "# convert to dates\n",
    "df_adm.ADMITTIME = pd.to_datetime(df_adm.ADMITTIME, errors = 'coerce')\n",
    "df_adm.DISCHTIME = pd.to_datetime(df_adm.DISCHTIME, errors = 'coerce')\n",
    "df_adm.DEATHTIME = pd.to_datetime(df_adm.DEATHTIME, errors = 'coerce')\n",
    "# sort by subject_ID and admission date\n",
    "df_adm = df_adm.sort_values(['SUBJECT_ID','ADMITTIME'])\n",
    "df_adm = df_adm.reset_index(drop = True)\n",
    "df_adm.head()"
   ]
  },
  {
   "cell_type": "code",
   "execution_count": 93,
   "id": "e11b2033",
   "metadata": {},
   "outputs": [
    {
     "data": {
      "text/plain": [
       "ADMISSION_TYPE\n",
       "ELECTIVE      7706\n",
       "EMERGENCY    42071\n",
       "NEWBORN       7863\n",
       "URGENT        1336\n",
       "dtype: int64"
      ]
     },
     "execution_count": 93,
     "metadata": {},
     "output_type": "execute_result"
    }
   ],
   "source": [
    "df_adm.groupby(['ADMISSION_TYPE']).size()\n"
   ]
  },
  {
   "cell_type": "code",
   "execution_count": 94,
   "id": "c8dd6f41",
   "metadata": {},
   "outputs": [
    {
     "name": "stdout",
     "output_type": "stream",
     "text": [
      "Number of missing date admissions: 0\n",
      "Number of missing date discharges: 0\n"
     ]
    }
   ],
   "source": [
    "# check to see if there are any missing dates\n",
    "print('Number of missing date admissions:', df_adm.ADMITTIME.isnull().sum())\n",
    "print('Number of missing date discharges:', df_adm.DISCHTIME.isnull().sum())"
   ]
  },
  {
   "cell_type": "code",
   "execution_count": 95,
   "id": "daee94df",
   "metadata": {},
   "outputs": [
    {
     "data": {
      "application/vnd.microsoft.datawrangler.viewer.v0+json": {
       "columns": [
        {
         "name": "index",
         "rawType": "int64",
         "type": "integer"
        },
        {
         "name": "SUBJECT_ID",
         "rawType": "int64",
         "type": "integer"
        },
        {
         "name": "ADMITTIME",
         "rawType": "datetime64[ns]",
         "type": "datetime"
        },
        {
         "name": "ADMISSION_TYPE",
         "rawType": "object",
         "type": "string"
        }
       ],
       "conversionMethod": "pd.DataFrame",
       "ref": "cfb45c59-82e2-4e89-9b31-4e15235ffe44",
       "rows": [
        [
         "165",
         "124",
         "2160-06-24 21:25:00",
         "EMERGENCY"
        ],
        [
         "166",
         "124",
         "2161-12-17 03:39:00",
         "EMERGENCY"
        ],
        [
         "167",
         "124",
         "2165-05-21 21:02:00",
         "ELECTIVE"
        ],
        [
         "168",
         "124",
         "2165-12-31 18:55:00",
         "EMERGENCY"
        ]
       ],
       "shape": {
        "columns": 3,
        "rows": 4
       }
      },
      "text/html": [
       "<div>\n",
       "<style scoped>\n",
       "    .dataframe tbody tr th:only-of-type {\n",
       "        vertical-align: middle;\n",
       "    }\n",
       "\n",
       "    .dataframe tbody tr th {\n",
       "        vertical-align: top;\n",
       "    }\n",
       "\n",
       "    .dataframe thead th {\n",
       "        text-align: right;\n",
       "    }\n",
       "</style>\n",
       "<table border=\"1\" class=\"dataframe\">\n",
       "  <thead>\n",
       "    <tr style=\"text-align: right;\">\n",
       "      <th></th>\n",
       "      <th>SUBJECT_ID</th>\n",
       "      <th>ADMITTIME</th>\n",
       "      <th>ADMISSION_TYPE</th>\n",
       "    </tr>\n",
       "  </thead>\n",
       "  <tbody>\n",
       "    <tr>\n",
       "      <th>165</th>\n",
       "      <td>124</td>\n",
       "      <td>2160-06-24 21:25:00</td>\n",
       "      <td>EMERGENCY</td>\n",
       "    </tr>\n",
       "    <tr>\n",
       "      <th>166</th>\n",
       "      <td>124</td>\n",
       "      <td>2161-12-17 03:39:00</td>\n",
       "      <td>EMERGENCY</td>\n",
       "    </tr>\n",
       "    <tr>\n",
       "      <th>167</th>\n",
       "      <td>124</td>\n",
       "      <td>2165-05-21 21:02:00</td>\n",
       "      <td>ELECTIVE</td>\n",
       "    </tr>\n",
       "    <tr>\n",
       "      <th>168</th>\n",
       "      <td>124</td>\n",
       "      <td>2165-12-31 18:55:00</td>\n",
       "      <td>EMERGENCY</td>\n",
       "    </tr>\n",
       "  </tbody>\n",
       "</table>\n",
       "</div>"
      ],
      "text/plain": [
       "     SUBJECT_ID           ADMITTIME ADMISSION_TYPE\n",
       "165         124 2160-06-24 21:25:00      EMERGENCY\n",
       "166         124 2161-12-17 03:39:00      EMERGENCY\n",
       "167         124 2165-05-21 21:02:00       ELECTIVE\n",
       "168         124 2165-12-31 18:55:00      EMERGENCY"
      ]
     },
     "execution_count": 95,
     "metadata": {},
     "output_type": "execute_result"
    }
   ],
   "source": [
    "# verify that it did what we wanted\n",
    "df_adm.loc[df_adm.SUBJECT_ID == 124,['SUBJECT_ID','ADMITTIME','ADMISSION_TYPE']]"
   ]
  },
  {
   "cell_type": "code",
   "execution_count": 96,
   "id": "77ef2fb2",
   "metadata": {},
   "outputs": [],
   "source": [
    "# add the next admission date and type for each subject using groupby\n",
    "# you have to use groupby otherwise the dates will be from different subjects\n",
    "df_adm['NEXT_ADMITTIME'] = df_adm.groupby('SUBJECT_ID').ADMITTIME.shift(-1)\n",
    "# get the next admission type\n",
    "df_adm['NEXT_ADMISSION_TYPE'] = df_adm.groupby('SUBJECT_ID').ADMISSION_TYPE.shift(-1)"
   ]
  },
  {
   "cell_type": "code",
   "execution_count": 97,
   "id": "c6630cf1",
   "metadata": {},
   "outputs": [
    {
     "data": {
      "application/vnd.microsoft.datawrangler.viewer.v0+json": {
       "columns": [
        {
         "name": "index",
         "rawType": "int64",
         "type": "integer"
        },
        {
         "name": "SUBJECT_ID",
         "rawType": "int64",
         "type": "integer"
        },
        {
         "name": "ADMITTIME",
         "rawType": "datetime64[ns]",
         "type": "datetime"
        },
        {
         "name": "ADMISSION_TYPE",
         "rawType": "object",
         "type": "string"
        },
        {
         "name": "NEXT_ADMITTIME",
         "rawType": "datetime64[ns]",
         "type": "datetime"
        },
        {
         "name": "NEXT_ADMISSION_TYPE",
         "rawType": "object",
         "type": "unknown"
        }
       ],
       "conversionMethod": "pd.DataFrame",
       "ref": "d4da20f0-d37b-43c8-94e8-51080dfb8d4e",
       "rows": [
        [
         "165",
         "124",
         "2160-06-24 21:25:00",
         "EMERGENCY",
         "2161-12-17 03:39:00",
         "EMERGENCY"
        ],
        [
         "166",
         "124",
         "2161-12-17 03:39:00",
         "EMERGENCY",
         "2165-05-21 21:02:00",
         "ELECTIVE"
        ],
        [
         "167",
         "124",
         "2165-05-21 21:02:00",
         "ELECTIVE",
         "2165-12-31 18:55:00",
         "EMERGENCY"
        ],
        [
         "168",
         "124",
         "2165-12-31 18:55:00",
         "EMERGENCY",
         null,
         null
        ]
       ],
       "shape": {
        "columns": 5,
        "rows": 4
       }
      },
      "text/html": [
       "<div>\n",
       "<style scoped>\n",
       "    .dataframe tbody tr th:only-of-type {\n",
       "        vertical-align: middle;\n",
       "    }\n",
       "\n",
       "    .dataframe tbody tr th {\n",
       "        vertical-align: top;\n",
       "    }\n",
       "\n",
       "    .dataframe thead th {\n",
       "        text-align: right;\n",
       "    }\n",
       "</style>\n",
       "<table border=\"1\" class=\"dataframe\">\n",
       "  <thead>\n",
       "    <tr style=\"text-align: right;\">\n",
       "      <th></th>\n",
       "      <th>SUBJECT_ID</th>\n",
       "      <th>ADMITTIME</th>\n",
       "      <th>ADMISSION_TYPE</th>\n",
       "      <th>NEXT_ADMITTIME</th>\n",
       "      <th>NEXT_ADMISSION_TYPE</th>\n",
       "    </tr>\n",
       "  </thead>\n",
       "  <tbody>\n",
       "    <tr>\n",
       "      <th>165</th>\n",
       "      <td>124</td>\n",
       "      <td>2160-06-24 21:25:00</td>\n",
       "      <td>EMERGENCY</td>\n",
       "      <td>2161-12-17 03:39:00</td>\n",
       "      <td>EMERGENCY</td>\n",
       "    </tr>\n",
       "    <tr>\n",
       "      <th>166</th>\n",
       "      <td>124</td>\n",
       "      <td>2161-12-17 03:39:00</td>\n",
       "      <td>EMERGENCY</td>\n",
       "      <td>2165-05-21 21:02:00</td>\n",
       "      <td>ELECTIVE</td>\n",
       "    </tr>\n",
       "    <tr>\n",
       "      <th>167</th>\n",
       "      <td>124</td>\n",
       "      <td>2165-05-21 21:02:00</td>\n",
       "      <td>ELECTIVE</td>\n",
       "      <td>2165-12-31 18:55:00</td>\n",
       "      <td>EMERGENCY</td>\n",
       "    </tr>\n",
       "    <tr>\n",
       "      <th>168</th>\n",
       "      <td>124</td>\n",
       "      <td>2165-12-31 18:55:00</td>\n",
       "      <td>EMERGENCY</td>\n",
       "      <td>NaT</td>\n",
       "      <td>NaN</td>\n",
       "    </tr>\n",
       "  </tbody>\n",
       "</table>\n",
       "</div>"
      ],
      "text/plain": [
       "     SUBJECT_ID           ADMITTIME ADMISSION_TYPE      NEXT_ADMITTIME  \\\n",
       "165         124 2160-06-24 21:25:00      EMERGENCY 2161-12-17 03:39:00   \n",
       "166         124 2161-12-17 03:39:00      EMERGENCY 2165-05-21 21:02:00   \n",
       "167         124 2165-05-21 21:02:00       ELECTIVE 2165-12-31 18:55:00   \n",
       "168         124 2165-12-31 18:55:00      EMERGENCY                 NaT   \n",
       "\n",
       "    NEXT_ADMISSION_TYPE  \n",
       "165           EMERGENCY  \n",
       "166            ELECTIVE  \n",
       "167           EMERGENCY  \n",
       "168                 NaN  "
      ]
     },
     "execution_count": 97,
     "metadata": {},
     "output_type": "execute_result"
    }
   ],
   "source": [
    "# verify that it did what we wanted\n",
    "df_adm.loc[df_adm.SUBJECT_ID == 124,['SUBJECT_ID','ADMITTIME','ADMISSION_TYPE','NEXT_ADMITTIME','NEXT_ADMISSION_TYPE']]"
   ]
  },
  {
   "cell_type": "code",
   "execution_count": 98,
   "id": "584fdf8d",
   "metadata": {},
   "outputs": [],
   "source": [
    "# get rows where next admission is elective and replace with naT or nan\n",
    "rows = df_adm.NEXT_ADMISSION_TYPE == 'ELECTIVE'\n",
    "df_adm.loc[rows,'NEXT_ADMITTIME'] = pd.NaT\n",
    "df_adm.loc[rows,'NEXT_ADMISSION_TYPE'] = np.NaN"
   ]
  },
  {
   "cell_type": "code",
   "execution_count": 99,
   "id": "ad0a2fa1",
   "metadata": {},
   "outputs": [
    {
     "data": {
      "application/vnd.microsoft.datawrangler.viewer.v0+json": {
       "columns": [
        {
         "name": "index",
         "rawType": "int64",
         "type": "integer"
        },
        {
         "name": "SUBJECT_ID",
         "rawType": "int64",
         "type": "integer"
        },
        {
         "name": "ADMITTIME",
         "rawType": "datetime64[ns]",
         "type": "datetime"
        },
        {
         "name": "ADMISSION_TYPE",
         "rawType": "object",
         "type": "string"
        },
        {
         "name": "NEXT_ADMITTIME",
         "rawType": "datetime64[ns]",
         "type": "datetime"
        },
        {
         "name": "NEXT_ADMISSION_TYPE",
         "rawType": "object",
         "type": "unknown"
        }
       ],
       "conversionMethod": "pd.DataFrame",
       "ref": "c52ca341-9a48-4287-a2ca-88d6dc5dbb21",
       "rows": [
        [
         "165",
         "124",
         "2160-06-24 21:25:00",
         "EMERGENCY",
         "2161-12-17 03:39:00",
         "EMERGENCY"
        ],
        [
         "166",
         "124",
         "2161-12-17 03:39:00",
         "EMERGENCY",
         null,
         null
        ],
        [
         "167",
         "124",
         "2165-05-21 21:02:00",
         "ELECTIVE",
         "2165-12-31 18:55:00",
         "EMERGENCY"
        ],
        [
         "168",
         "124",
         "2165-12-31 18:55:00",
         "EMERGENCY",
         null,
         null
        ]
       ],
       "shape": {
        "columns": 5,
        "rows": 4
       }
      },
      "text/html": [
       "<div>\n",
       "<style scoped>\n",
       "    .dataframe tbody tr th:only-of-type {\n",
       "        vertical-align: middle;\n",
       "    }\n",
       "\n",
       "    .dataframe tbody tr th {\n",
       "        vertical-align: top;\n",
       "    }\n",
       "\n",
       "    .dataframe thead th {\n",
       "        text-align: right;\n",
       "    }\n",
       "</style>\n",
       "<table border=\"1\" class=\"dataframe\">\n",
       "  <thead>\n",
       "    <tr style=\"text-align: right;\">\n",
       "      <th></th>\n",
       "      <th>SUBJECT_ID</th>\n",
       "      <th>ADMITTIME</th>\n",
       "      <th>ADMISSION_TYPE</th>\n",
       "      <th>NEXT_ADMITTIME</th>\n",
       "      <th>NEXT_ADMISSION_TYPE</th>\n",
       "    </tr>\n",
       "  </thead>\n",
       "  <tbody>\n",
       "    <tr>\n",
       "      <th>165</th>\n",
       "      <td>124</td>\n",
       "      <td>2160-06-24 21:25:00</td>\n",
       "      <td>EMERGENCY</td>\n",
       "      <td>2161-12-17 03:39:00</td>\n",
       "      <td>EMERGENCY</td>\n",
       "    </tr>\n",
       "    <tr>\n",
       "      <th>166</th>\n",
       "      <td>124</td>\n",
       "      <td>2161-12-17 03:39:00</td>\n",
       "      <td>EMERGENCY</td>\n",
       "      <td>NaT</td>\n",
       "      <td>NaN</td>\n",
       "    </tr>\n",
       "    <tr>\n",
       "      <th>167</th>\n",
       "      <td>124</td>\n",
       "      <td>2165-05-21 21:02:00</td>\n",
       "      <td>ELECTIVE</td>\n",
       "      <td>2165-12-31 18:55:00</td>\n",
       "      <td>EMERGENCY</td>\n",
       "    </tr>\n",
       "    <tr>\n",
       "      <th>168</th>\n",
       "      <td>124</td>\n",
       "      <td>2165-12-31 18:55:00</td>\n",
       "      <td>EMERGENCY</td>\n",
       "      <td>NaT</td>\n",
       "      <td>NaN</td>\n",
       "    </tr>\n",
       "  </tbody>\n",
       "</table>\n",
       "</div>"
      ],
      "text/plain": [
       "     SUBJECT_ID           ADMITTIME ADMISSION_TYPE      NEXT_ADMITTIME  \\\n",
       "165         124 2160-06-24 21:25:00      EMERGENCY 2161-12-17 03:39:00   \n",
       "166         124 2161-12-17 03:39:00      EMERGENCY                 NaT   \n",
       "167         124 2165-05-21 21:02:00       ELECTIVE 2165-12-31 18:55:00   \n",
       "168         124 2165-12-31 18:55:00      EMERGENCY                 NaT   \n",
       "\n",
       "    NEXT_ADMISSION_TYPE  \n",
       "165           EMERGENCY  \n",
       "166                 NaN  \n",
       "167           EMERGENCY  \n",
       "168                 NaN  "
      ]
     },
     "execution_count": 99,
     "metadata": {},
     "output_type": "execute_result"
    }
   ],
   "source": [
    "# verify that it did what we wanted\n",
    "df_adm.loc[df_adm.SUBJECT_ID == 124,['SUBJECT_ID','ADMITTIME','ADMISSION_TYPE','NEXT_ADMITTIME','NEXT_ADMISSION_TYPE']]"
   ]
  },
  {
   "cell_type": "code",
   "execution_count": 100,
   "id": "371ebfc5",
   "metadata": {},
   "outputs": [
    {
     "name": "stderr",
     "output_type": "stream",
     "text": [
      "C:\\Users\\ajays\\AppData\\Local\\Temp\\ipykernel_415092\\1783507809.py:6: FutureWarning: DataFrameGroupBy.fillna is deprecated and will be removed in a future version. Use obj.ffill() or obj.bfill() for forward or backward filling instead. If you want to fill with a single value, use DataFrame.fillna instead\n",
      "  df_adm[['NEXT_ADMITTIME','NEXT_ADMISSION_TYPE']] = df_adm.groupby(['SUBJECT_ID'])[['NEXT_ADMITTIME','NEXT_ADMISSION_TYPE']].fillna(method = 'bfill')\n",
      "C:\\Users\\ajays\\AppData\\Local\\Temp\\ipykernel_415092\\1783507809.py:6: FutureWarning: DataFrame.fillna with 'method' is deprecated and will raise in a future version. Use obj.ffill() or obj.bfill() instead.\n",
      "  df_adm[['NEXT_ADMITTIME','NEXT_ADMISSION_TYPE']] = df_adm.groupby(['SUBJECT_ID'])[['NEXT_ADMITTIME','NEXT_ADMISSION_TYPE']].fillna(method = 'bfill')\n",
      "C:\\Users\\ajays\\AppData\\Local\\Temp\\ipykernel_415092\\1783507809.py:6: FutureWarning: Downcasting object dtype arrays on .fillna, .ffill, .bfill is deprecated and will change in a future version. Call result.infer_objects(copy=False) instead. To opt-in to the future behavior, set `pd.set_option('future.no_silent_downcasting', True)`\n",
      "  df_adm[['NEXT_ADMITTIME','NEXT_ADMISSION_TYPE']] = df_adm.groupby(['SUBJECT_ID'])[['NEXT_ADMITTIME','NEXT_ADMISSION_TYPE']].fillna(method = 'bfill')\n"
     ]
    }
   ],
   "source": [
    "# sort by subject_ID and admission date\n",
    "# it is safer to sort right before the fill incase something changed the order above\n",
    "df_adm = df_adm.sort_values(['SUBJECT_ID','ADMITTIME'])\n",
    "\n",
    "# back fill (this will take a little while)\n",
    "df_adm[['NEXT_ADMITTIME','NEXT_ADMISSION_TYPE']] = df_adm.groupby(['SUBJECT_ID'])[['NEXT_ADMITTIME','NEXT_ADMISSION_TYPE']].fillna(method = 'bfill')"
   ]
  },
  {
   "cell_type": "code",
   "execution_count": 101,
   "id": "ef6207ab",
   "metadata": {},
   "outputs": [
    {
     "data": {
      "application/vnd.microsoft.datawrangler.viewer.v0+json": {
       "columns": [
        {
         "name": "index",
         "rawType": "int64",
         "type": "integer"
        },
        {
         "name": "SUBJECT_ID",
         "rawType": "int64",
         "type": "integer"
        },
        {
         "name": "ADMITTIME",
         "rawType": "datetime64[ns]",
         "type": "datetime"
        },
        {
         "name": "ADMISSION_TYPE",
         "rawType": "object",
         "type": "string"
        },
        {
         "name": "NEXT_ADMITTIME",
         "rawType": "datetime64[ns]",
         "type": "datetime"
        },
        {
         "name": "NEXT_ADMISSION_TYPE",
         "rawType": "object",
         "type": "unknown"
        }
       ],
       "conversionMethod": "pd.DataFrame",
       "ref": "7e71787e-d2b6-40d6-9dfa-212e80247a16",
       "rows": [
        [
         "165",
         "124",
         "2160-06-24 21:25:00",
         "EMERGENCY",
         "2161-12-17 03:39:00",
         "EMERGENCY"
        ],
        [
         "166",
         "124",
         "2161-12-17 03:39:00",
         "EMERGENCY",
         "2165-12-31 18:55:00",
         "EMERGENCY"
        ],
        [
         "167",
         "124",
         "2165-05-21 21:02:00",
         "ELECTIVE",
         "2165-12-31 18:55:00",
         "EMERGENCY"
        ],
        [
         "168",
         "124",
         "2165-12-31 18:55:00",
         "EMERGENCY",
         null,
         null
        ]
       ],
       "shape": {
        "columns": 5,
        "rows": 4
       }
      },
      "text/html": [
       "<div>\n",
       "<style scoped>\n",
       "    .dataframe tbody tr th:only-of-type {\n",
       "        vertical-align: middle;\n",
       "    }\n",
       "\n",
       "    .dataframe tbody tr th {\n",
       "        vertical-align: top;\n",
       "    }\n",
       "\n",
       "    .dataframe thead th {\n",
       "        text-align: right;\n",
       "    }\n",
       "</style>\n",
       "<table border=\"1\" class=\"dataframe\">\n",
       "  <thead>\n",
       "    <tr style=\"text-align: right;\">\n",
       "      <th></th>\n",
       "      <th>SUBJECT_ID</th>\n",
       "      <th>ADMITTIME</th>\n",
       "      <th>ADMISSION_TYPE</th>\n",
       "      <th>NEXT_ADMITTIME</th>\n",
       "      <th>NEXT_ADMISSION_TYPE</th>\n",
       "    </tr>\n",
       "  </thead>\n",
       "  <tbody>\n",
       "    <tr>\n",
       "      <th>165</th>\n",
       "      <td>124</td>\n",
       "      <td>2160-06-24 21:25:00</td>\n",
       "      <td>EMERGENCY</td>\n",
       "      <td>2161-12-17 03:39:00</td>\n",
       "      <td>EMERGENCY</td>\n",
       "    </tr>\n",
       "    <tr>\n",
       "      <th>166</th>\n",
       "      <td>124</td>\n",
       "      <td>2161-12-17 03:39:00</td>\n",
       "      <td>EMERGENCY</td>\n",
       "      <td>2165-12-31 18:55:00</td>\n",
       "      <td>EMERGENCY</td>\n",
       "    </tr>\n",
       "    <tr>\n",
       "      <th>167</th>\n",
       "      <td>124</td>\n",
       "      <td>2165-05-21 21:02:00</td>\n",
       "      <td>ELECTIVE</td>\n",
       "      <td>2165-12-31 18:55:00</td>\n",
       "      <td>EMERGENCY</td>\n",
       "    </tr>\n",
       "    <tr>\n",
       "      <th>168</th>\n",
       "      <td>124</td>\n",
       "      <td>2165-12-31 18:55:00</td>\n",
       "      <td>EMERGENCY</td>\n",
       "      <td>NaT</td>\n",
       "      <td>NaN</td>\n",
       "    </tr>\n",
       "  </tbody>\n",
       "</table>\n",
       "</div>"
      ],
      "text/plain": [
       "     SUBJECT_ID           ADMITTIME ADMISSION_TYPE      NEXT_ADMITTIME  \\\n",
       "165         124 2160-06-24 21:25:00      EMERGENCY 2161-12-17 03:39:00   \n",
       "166         124 2161-12-17 03:39:00      EMERGENCY 2165-12-31 18:55:00   \n",
       "167         124 2165-05-21 21:02:00       ELECTIVE 2165-12-31 18:55:00   \n",
       "168         124 2165-12-31 18:55:00      EMERGENCY                 NaT   \n",
       "\n",
       "    NEXT_ADMISSION_TYPE  \n",
       "165           EMERGENCY  \n",
       "166           EMERGENCY  \n",
       "167           EMERGENCY  \n",
       "168                 NaN  "
      ]
     },
     "execution_count": 101,
     "metadata": {},
     "output_type": "execute_result"
    }
   ],
   "source": [
    "# verify that it did what we wanted\n",
    "df_adm.loc[df_adm.SUBJECT_ID == 124,['SUBJECT_ID','ADMITTIME','ADMISSION_TYPE','NEXT_ADMITTIME','NEXT_ADMISSION_TYPE']]"
   ]
  },
  {
   "cell_type": "code",
   "execution_count": 102,
   "id": "bfc7090f",
   "metadata": {},
   "outputs": [],
   "source": [
    "# calculate the number of days between discharge and next admission\n",
    "df_adm['DAYS_NEXT_ADMIT']=  (df_adm.NEXT_ADMITTIME - df_adm.DISCHTIME).dt.total_seconds()/(24*60*60)"
   ]
  },
  {
   "cell_type": "code",
   "execution_count": 103,
   "id": "36bd5caf",
   "metadata": {},
   "outputs": [
    {
     "name": "stdout",
     "output_type": "stream",
     "text": [
      "Number with a readmission: 11399\n",
      "Total Number: 58976\n"
     ]
    }
   ],
   "source": [
    "\n",
    "print('Number with a readmission:', (~df_adm.DAYS_NEXT_ADMIT.isnull()).sum())\n",
    "print('Total Number:', len(df_adm))"
   ]
  },
  {
   "cell_type": "code",
   "execution_count": 104,
   "id": "4c5df2a7",
   "metadata": {},
   "outputs": [
    {
     "data": {
      "application/vnd.microsoft.datawrangler.viewer.v0+json": {
       "columns": [
        {
         "name": "index",
         "rawType": "int64",
         "type": "integer"
        },
        {
         "name": "SUBJECT_ID",
         "rawType": "int64",
         "type": "integer"
        },
        {
         "name": "ADMITTIME",
         "rawType": "datetime64[ns]",
         "type": "datetime"
        },
        {
         "name": "ADMISSION_TYPE",
         "rawType": "object",
         "type": "string"
        },
        {
         "name": "DISCHTIME",
         "rawType": "datetime64[ns]",
         "type": "datetime"
        },
        {
         "name": "NEXT_ADMITTIME",
         "rawType": "datetime64[ns]",
         "type": "datetime"
        },
        {
         "name": "NEXT_ADMISSION_TYPE",
         "rawType": "object",
         "type": "unknown"
        },
        {
         "name": "DAYS_NEXT_ADMIT",
         "rawType": "float64",
         "type": "float"
        }
       ],
       "conversionMethod": "pd.DataFrame",
       "ref": "4e71ba40-e4bc-4ee9-bc1e-474e85958be5",
       "rows": [
        [
         "165",
         "124",
         "2160-06-24 21:25:00",
         "EMERGENCY",
         "2160-07-15 15:10:00",
         "2161-12-17 03:39:00",
         "EMERGENCY",
         "519.5201388888889"
        ],
        [
         "166",
         "124",
         "2161-12-17 03:39:00",
         "EMERGENCY",
         "2161-12-24 15:35:00",
         "2165-12-31 18:55:00",
         "EMERGENCY",
         "1468.138888888889"
        ],
        [
         "167",
         "124",
         "2165-05-21 21:02:00",
         "ELECTIVE",
         "2165-06-06 16:00:00",
         "2165-12-31 18:55:00",
         "EMERGENCY",
         "208.12152777777777"
        ],
        [
         "168",
         "124",
         "2165-12-31 18:55:00",
         "EMERGENCY",
         "2166-02-01 06:55:00",
         null,
         null,
         null
        ]
       ],
       "shape": {
        "columns": 7,
        "rows": 4
       }
      },
      "text/html": [
       "<div>\n",
       "<style scoped>\n",
       "    .dataframe tbody tr th:only-of-type {\n",
       "        vertical-align: middle;\n",
       "    }\n",
       "\n",
       "    .dataframe tbody tr th {\n",
       "        vertical-align: top;\n",
       "    }\n",
       "\n",
       "    .dataframe thead th {\n",
       "        text-align: right;\n",
       "    }\n",
       "</style>\n",
       "<table border=\"1\" class=\"dataframe\">\n",
       "  <thead>\n",
       "    <tr style=\"text-align: right;\">\n",
       "      <th></th>\n",
       "      <th>SUBJECT_ID</th>\n",
       "      <th>ADMITTIME</th>\n",
       "      <th>ADMISSION_TYPE</th>\n",
       "      <th>DISCHTIME</th>\n",
       "      <th>NEXT_ADMITTIME</th>\n",
       "      <th>NEXT_ADMISSION_TYPE</th>\n",
       "      <th>DAYS_NEXT_ADMIT</th>\n",
       "    </tr>\n",
       "  </thead>\n",
       "  <tbody>\n",
       "    <tr>\n",
       "      <th>165</th>\n",
       "      <td>124</td>\n",
       "      <td>2160-06-24 21:25:00</td>\n",
       "      <td>EMERGENCY</td>\n",
       "      <td>2160-07-15 15:10:00</td>\n",
       "      <td>2161-12-17 03:39:00</td>\n",
       "      <td>EMERGENCY</td>\n",
       "      <td>519.520139</td>\n",
       "    </tr>\n",
       "    <tr>\n",
       "      <th>166</th>\n",
       "      <td>124</td>\n",
       "      <td>2161-12-17 03:39:00</td>\n",
       "      <td>EMERGENCY</td>\n",
       "      <td>2161-12-24 15:35:00</td>\n",
       "      <td>2165-12-31 18:55:00</td>\n",
       "      <td>EMERGENCY</td>\n",
       "      <td>1468.138889</td>\n",
       "    </tr>\n",
       "    <tr>\n",
       "      <th>167</th>\n",
       "      <td>124</td>\n",
       "      <td>2165-05-21 21:02:00</td>\n",
       "      <td>ELECTIVE</td>\n",
       "      <td>2165-06-06 16:00:00</td>\n",
       "      <td>2165-12-31 18:55:00</td>\n",
       "      <td>EMERGENCY</td>\n",
       "      <td>208.121528</td>\n",
       "    </tr>\n",
       "    <tr>\n",
       "      <th>168</th>\n",
       "      <td>124</td>\n",
       "      <td>2165-12-31 18:55:00</td>\n",
       "      <td>EMERGENCY</td>\n",
       "      <td>2166-02-01 06:55:00</td>\n",
       "      <td>NaT</td>\n",
       "      <td>NaN</td>\n",
       "      <td>NaN</td>\n",
       "    </tr>\n",
       "  </tbody>\n",
       "</table>\n",
       "</div>"
      ],
      "text/plain": [
       "     SUBJECT_ID           ADMITTIME ADMISSION_TYPE           DISCHTIME  \\\n",
       "165         124 2160-06-24 21:25:00      EMERGENCY 2160-07-15 15:10:00   \n",
       "166         124 2161-12-17 03:39:00      EMERGENCY 2161-12-24 15:35:00   \n",
       "167         124 2165-05-21 21:02:00       ELECTIVE 2165-06-06 16:00:00   \n",
       "168         124 2165-12-31 18:55:00      EMERGENCY 2166-02-01 06:55:00   \n",
       "\n",
       "         NEXT_ADMITTIME NEXT_ADMISSION_TYPE  DAYS_NEXT_ADMIT  \n",
       "165 2161-12-17 03:39:00           EMERGENCY       519.520139  \n",
       "166 2165-12-31 18:55:00           EMERGENCY      1468.138889  \n",
       "167 2165-12-31 18:55:00           EMERGENCY       208.121528  \n",
       "168                 NaT                 NaN              NaN  "
      ]
     },
     "execution_count": 104,
     "metadata": {},
     "output_type": "execute_result"
    }
   ],
   "source": [
    "# verify that it did what we wanted\n",
    "df_adm.loc[df_adm.SUBJECT_ID == 124,['SUBJECT_ID','ADMITTIME','ADMISSION_TYPE','DISCHTIME','NEXT_ADMITTIME','NEXT_ADMISSION_TYPE', 'DAYS_NEXT_ADMIT']]"
   ]
  },
  {
   "cell_type": "code",
   "execution_count": 105,
   "id": "9f5988ae",
   "metadata": {},
   "outputs": [
    {
     "name": "stdout",
     "output_type": "stream",
     "text": [
      "Number of notes: 59652\n"
     ]
    }
   ],
   "source": [
    "df_notes = pd.read_csv(r\"D:\\UT_Austin\\sem2\\mimic-iii-clinical-database-demo-1.4\\all_discharge_summary.csv\")\n",
    "# df_notes = pd.read_csv(\"diabetes_patients_discharge_summary.csv\")\n",
    "df_notes.columns=df_notes.columns.str.upper()\n",
    "print('Number of notes:',len(df_notes))"
   ]
  },
  {
   "cell_type": "code",
   "execution_count": 106,
   "id": "25c673a1",
   "metadata": {},
   "outputs": [
    {
     "data": {
      "application/vnd.microsoft.datawrangler.viewer.v0+json": {
       "columns": [
        {
         "name": "index",
         "rawType": "int64",
         "type": "integer"
        },
        {
         "name": "ROW_ID",
         "rawType": "int64",
         "type": "integer"
        },
        {
         "name": "SUBJECT_ID",
         "rawType": "int64",
         "type": "integer"
        },
        {
         "name": "HADM_ID",
         "rawType": "int64",
         "type": "integer"
        },
        {
         "name": "CHARTDATE",
         "rawType": "object",
         "type": "string"
        },
        {
         "name": "CHARTTIME",
         "rawType": "float64",
         "type": "float"
        },
        {
         "name": "STORETIME",
         "rawType": "float64",
         "type": "float"
        },
        {
         "name": "CATEGORY",
         "rawType": "object",
         "type": "string"
        },
        {
         "name": "DESCRIPTION",
         "rawType": "object",
         "type": "string"
        },
        {
         "name": "CGID",
         "rawType": "float64",
         "type": "float"
        },
        {
         "name": "ISERROR",
         "rawType": "float64",
         "type": "float"
        },
        {
         "name": "TEXT",
         "rawType": "object",
         "type": "string"
        }
       ],
       "conversionMethod": "pd.DataFrame",
       "ref": "fa31fad8-3dca-4bc3-8ccd-3bddfd9b9bd3",
       "rows": [
        [
         "0",
         "1227",
         "3403",
         "172500",
         "2172-06-20",
         null,
         null,
         "Discharge summary",
         "Report",
         null,
         null,
         "Admission Date:  [**2172-6-15**]              Discharge Date:   [**2172-6-20**]\n\nDate of Birth:  [**2099-5-18**]             Sex:   F\n\nService: CARDIOTHORACIC\n\nAllergies:\nPatient recorded as having No Known Allergies to Drugs\n\nAttending:[**First Name3 (LF) 1283**]\nChief Complaint:\nDyspnea on exertion\n\nMajor Surgical or Invasive Procedure:\nMitral Valve Replacement, Cryomaze procedure and Left Atrial\nAppendage Resection [**2172-6-16**]\n\nHistory of Present Illness:\n72 y/o female with known mitral regurgitation who was referred\nfor surgical intervention.\n\nPast Medical History:\nMitral Regurgitation, Atrial Fibrillation h/o cardioversion,\nHypertension, Chronic Obstructive Pulmonary Disease, Hodgkin's\ndisease s/p Chemo, Squamous Cell cncer right calf s/p excision,\nHypothyroidism, s/p Hysterectomy, s/p c-section and\nappendectomy, s/p lumbar disc surgery\n\nSocial History:\nDenies tobacco use. Occasional ETOH. Lives with husband.\n\nFamily History:\nNon-contributory\n\nPhysical Exam:\nBP: 61 18 128/64 5'5\" 131#\nGeneral: Elderly female in NAD\nHEENTL PERRL, EOMI\nNeck: Supple, FROM, Carotids @+ B, transmitted murmur\nLungs: CTAB -w/r/r\nHeart: RRR 3/6 systolic murmur\nAbd: Soft, NT/ND +BS\nExt: Warm, well-perfused 1+ pedal pulses, -varicosities\nNeuro: MAE, non-focal, A&O x 3\n\nPertinent Results:\nEcho [**6-16**]: Prebypass: Left ventricular cavity size, and systolic\nfunction are normal (LVEF>55%). Intrinsic function is probably\ndepressed in the setting of moderate mitral regurgitation. There\nis mild left ventricular hypertrophy. There are complex (>4mm)\natheroma in the descending thoracic aorta. The aortic valve\nleaflets (3) are mildly thickened. There is no aortic valve\nstenosis. Mild (1+) aortic regurgitation is seen. The mitral\nvalve leaflets are myxomatous. There is moderate/severe mitral\nvalve prolapse of the anterior and posterior mitral leaflets..\nModerate (2+)  mitral regurgitation is seen. The mitral\nregurgitation jet is eccentric. There are multiple eccentric\njets seen. Significant pulmonic regurgitation is seen. Post\nbypass: Biventricular systolic function is preserved.\nBioprosthetic valve seen in the mitral position. Valve appears\nwell seated. Leaflets move well. No mitral regurgitation\ndetected. Mean gradient across the bioprosthetic valve is 2\nmmHg. Aorta appears intact post decannulation.\nCXR [**6-19**]: There is small left pneumothorax on the left apex that\nis stable compared to the previous study. There is also a small\nright pneumothorax at the right lung apex that is not well seen\non the previous study. There is left subclavian CV line with its\ntip in distal third SVC. There is prosthetic mitral valve that\nis stable compared to the previous study. There is left pleural\neffusion stable compared to previous study. Heart size is mildly\nenlarged. Mediastinal and hilar contours are normal.\n[**2172-6-15**] 02:00PM BLOOD WBC-6.9 RBC-3.81* Hgb-11.7* Hct-32.9*\nMCV-86 MCH-30.8 MCHC-35.7* RDW-15.1 Plt Ct-246\n[**2172-6-20**] 05:40AM BLOOD WBC-9.4 RBC-3.23* Hgb-9.9* Hct-28.4*\nMCV-88 MCH-30.7 MCHC-34.9 RDW-14.2 Plt Ct-161\n[**2172-6-15**] 02:00PM BLOOD PT-12.6 PTT-22.9 INR(PT)-1.1\n[**2172-6-20**] 05:40AM BLOOD PT-11.5 PTT-21.7* INR(PT)-1.0\n[**2172-6-15**] 02:00PM BLOOD Glucose-91 UreaN-26* Creat-1.0 Na-139\nK-4.6 Cl-105 HCO3-24 AnGap-15\n[**2172-6-19**] 10:55AM BLOOD UreaN-14 Creat-0.8 Na-138 K-4.0\n\nBrief Hospital Course:\nMs. [**Known lastname 7739**] was admitted prior to surgery secondary to her\nCoumadin which she stopped on [**6-10**]. Her INR was checked and she\nwas started on Heparin. On [**6-16**] she was brought to the operating\nroom where she underwent a mitral valve replacement and maze\nprocedure. Please see operative report for surgical details.\nFollowing surgery she was transferred to the CSRU for invasive\nmonitoring in stable condition. Later on op day she was weaned\nfrom sedation, awoke neurologically intact and extubated. She\nwas weaned off all drip and started on beta blockers and\ndiuretics. On this day she had several episodes of bradycardia\nand beta blockade was temporarily held. On post-op day two she\nappeared to be doing well and was transferred to the SDU. Chest\ntubes were removed on this day and epicardial pacing wires on\npost-op day three. Coumadin and Amiodarone were restarted but\nshe remained in sinus rhythm. Physical therapy followed patient\nduring entire post-op course for strength and mobility. She\ncontinued to improve quite well and was discharged home with VNA\nservices and the appropriate follow-up appointments on post-op\nday four.\n\nMedications on Admission:\nPremarin, Synthroid, Atenolol, Cozaar, Coumadin, Folate,\nAspririn, Amiodarone\n\nDischarge Medications:\n1. Potassium Chloride 10 mEq Capsule, Sustained Release Sig: Two\n(2) Capsule, Sustained Release PO Q12H (every 12 hours) for 7\ndays.\nDisp:*28 Capsule, Sustained Release(s)* Refills:*0*\n2. Docusate Sodium 100 mg Capsule Sig: One (1) Capsule PO BID (2\ntimes a day).\nDisp:*60 Capsule(s)* Refills:*2*\n3. Ranitidine HCl 150 mg Tablet Sig: One (1) Tablet PO BID (2\ntimes a day).\nDisp:*60 Tablet(s)* Refills:*2*\n4. Aspirin 81 mg Tablet, Delayed Release (E.C.) Sig: One (1)\nTablet, Delayed Release (E.C.) PO DAILY (Daily).\nDisp:*30 Tablet, Delayed Release (E.C.)(s)* Refills:*2*\n5. Oxycodone-Acetaminophen 5-325 mg Tablet Sig: One (1) Tablet\nPO every 4-6 hours as needed for pain.\nDisp:*40 Tablet(s)* Refills:*0*\n6. Atorvastatin 10 mg Tablet Sig: One (1) Tablet PO DAILY\n(Daily).\nDisp:*30 Tablet(s)* Refills:*2*\n7. Amiodarone 200 mg Tablet Sig: One (1) Tablet PO DAILY\n(Daily).\nDisp:*30 Tablet(s)* Refills:*2*\n8. Furosemide 20 mg Tablet Sig: One (1) Tablet PO BID (2 times a\nday) for 7 days.\nDisp:*14 Tablet(s)* Refills:*0*\n9. Atenolol 25 mg Tablet Sig: One (1) Tablet PO once a day.\nDisp:*30 Tablet(s)* Refills:*2*\n10. Levothyroxine 25 mcg Tablet Sig: One (1) Tablet PO once a\nday.\nDisp:*30 Tablet(s)* Refills:*2*\n11. Warfarin 5 mg Tablet Sig: One (1) Tablet PO once a day for 2\ndays: 5mg on [**6-20**] & [**6-21**], then INR to be drawn on [**6-21**] and\ncalled to coumadin clinic for continued dosing.\nDisp:*30 Tablet(s)* Refills:*0*\n\nDischarge Disposition:\nHome With Service\n\nFacility:\n[**Location (un) 1110**] VNA\n\nDischarge Diagnosis:\nMitral Regurgitation s/p Mitral Valve Replacement\nAtrial Fibrillation h/o cardioversion s/p MAZE procedure and\nLeft Atrial Appendage Resection\nPMH: Hypertension, Chronic Obstructive Pulmonary Disease,\nHodgkin's disease s/p Chemo, Squamous Cell cncer right calf s/p\nexcision, Hypothyroidism, s/p Hysterectomy, s/p c-section and\nappendectomy, s/p lumbar disc surgery\n\nDischarge Condition:\ngood\n\nDischarge Instructions:\nmay shower, no bathing or swimming for 1 month\nno lifting > 10# for 10 weeks\nno driving for 1 month\nno creams, lotions or powders to any incisions\n\n[**Last Name (NamePattern4) 2138**]p Instructions:\nwith Dr. [**Last Name (STitle) **] in [**1-3**] weeks\nwith Dr. [**Last Name (STitle) **] in [**1-3**] weeks\nwith Dr. [**Last Name (Prefixes) **] in 4 weeks\n\n\nCompleted by:[**2172-7-8**]"
        ],
        [
         "1",
         "2055",
         "17137",
         "174999",
         "2156-07-04",
         null,
         null,
         "Discharge summary",
         "Report",
         null,
         null,
         "Admission Date:  [**2156-6-29**]       Discharge Date:  [**2156-7-4**]\n\nDate of Birth:   [**2089-7-5**]       Sex:  M\n\nService:  Cardiac Surgery\n\nCHIEF COMPLAINT:  Dyspnea on exertion.\n\nHISTORY OF PRESENT ILLNESS:  Mr. [**Known lastname 11196**] is a 66 year-old\ndiabetic who reports dyspnea on exertion since the past two\nyears.  He becomes short of breath when he carries his 22\nmonth old daughter for more than three or four block.  He\nalso gets short of breath when climbing one flight of stairs\nor walking 15 minutes on a treadmill.  He had a stress test\nthat demonstrated inferolateral ischemic changes and on\nnuclear images had a moderate to severe reversible defect in\nthe inferior wall.  His  ejection fraction was estimated at\n64 percent.  Cardiac catheterization revealed a right\ndominant system with three vessel coronary disease.  He was\nreferred for cardiac surgery.\n\nPAST MEDICAL HISTORY:  Is notable for the following:  1)\nHypertension.  2) Hypercholesterolemia.  3) Insulin dependent\ndiabetes mellitus.  4) Ulcerative colitis.  5) history of\nbleeding gums.  6) Heavy cigar use, quit three years ago.\n\nPAST SURGICAL HISTORY:  1) Vocal cord papilloma, status post\n32 throat surgeries.\n\nPatient is not allergic to any medicines.  He takes the\nfollowing medications:  1) aspirin 325 mg q.d., 2) Humolog\ninsulin 12 units in the A.M., 10 units in the P.M. at dinner.\n3) NPH 30 units in the A.M., 40 units at bedtime, 4) Lipitor\n10 mg p.o. q.h.s., 5) Asacol 800 mg p.o. b.i.d., 6) Atenolol\n50 mg p.o. q.d., 7) doxycycline 100 mg p.o.q.d.  8) Xanax\n0.25 q.j.s. p.r.n., 9) vitamin D 400 international units q.d.\n\nADMISSION LABORATORY DATA:  White [**Known lastname **] cell count is 6.9,\nhematocrit is 44, platelets are 244, BUN/creatinine 22/1.2.\n\nHOSPITAL COURSE:  The patient was admitted as a Same Day\nsurgery patient to the Cardiac Surgery Service.  He was taken\nto the operating room where he had coronary artery bypass\ngrafting time four.  His grafts are LIMA to LAD, saphenous\nvein graft to LAD/diagonal, saphenous vein graft to OM and\nsaphenous vein graft to right PDA.  Patient's procedure\nitself was unremarkable.  Postoperative he was taken\nintubated to the Intensive Care Unit on Neosynephrine and\ninsulin drips.  Overnight he was extubated.  His Lopessors\nwere weaned off on the first postoperative day and his\ninsulin drip was converted to his home insulin regimen after\nhis [**Known lastname **] sugars normalized.  He did have problems with [**Name2 (NI) **]\nsugars as high as 400 but these subsequently corrected.  By\nthe evening of the first postoperative day he was on the\nhospital floor.  The remainder of the hospitalization was\nunremarkable.  His Foley catheter, chest tube and pacing\nwires were all discontinued in normal fashion.  His primary\ncare physician was involved in managing his [**Name2 (NI) **] sugars.  He\nwas restarted on his appropriate home medications.  By his\nfifth postoperative day he was eating, ambulating, voiding\nand was cleared by physical therapy to be safely discharged\nhome.  He did have some lability of his [**Name2 (NI) **] sugars and that\nextended his hospitalization for one day.  He also had no\nchanges in his insulin regimen as it was felt that his eating\nhabits would normalize once he arrived home.\n\nOn [**2156-7-4**] patient was discharged home in stable\ncondition under the care of his family.  He will have a\nvisiting nurse [**First Name (Titles) **] [**Last Name (Titles) 11197**] his wound status and ensure that he\nis managing adequately at home.  He is discharged on the\nfollowing medications:  1) Lopressor 50 mg p.o. b.i.d., 2)\naspirin 325 mg p.o. q.d., 3) Asacol 800 mg b.i.d., 4) Lipitor\n10 mg q.d., 5) Zantac 150 mg b.i.d., 6) Colace 100 mg b.i.d.,\n6) Xanax 0.25 mg q.h.s. p.r.n., 7) Lasix 20 mg q.d. times\nseven days, 8) potassium chloride 10 mEq q.d. times seven\ndays, 9) NPH 30 units q. A.M., 40 units q.h.s., 10) Humolog\n12 units q.A.M., 10 units q. P.M. at dinner, 11) Percocet 325\n1 to 2 p.o. q 4 to6 hours p.r.n.\n\nPatient is to follow up with his primary care physician, [**Last Name (NamePattern4) **].\n[**First Name8 (NamePattern2) **] [**Last Name (NamePattern1) 11198**] within the next two to three weeks.  In\naddition, he is to see Dr. [**First Name8 (NamePattern2) **] [**Last Name (NamePattern1) 70**] in six weeks.\n\nDISCHARGE DIAGNOSIS:\nThree vessel coronary artery disease, now status post\ncoronary artery bypass graft times four.\nInsulin dependent diabetes mellitus, partially controlled.\nHypercholesterolemia.\nHypertension.\nUlcerative colitis.\nVocal cord papillomas.\n\n\n\n\n                            [**First Name11 (Name Pattern1) **] [**Initials (NamePattern4) **] [**Last Name (NamePattern4) **], M.D.  [**MD Number(1) 75**]\n\nDictated By:[**Last Name (NamePattern1) 9638**]\nMEDQUIST36\n\nD:  [**2156-7-4**]  11:43\nT:  [**2156-7-4**]  12:29\nJOB#:  [**Job Number 11199**]\n"
        ],
        [
         "2",
         "2077",
         "6541",
         "110445",
         "2133-04-02",
         null,
         null,
         "Discharge summary",
         "Report",
         null,
         null,
         "Admission Date:  [**2133-3-28**]       Discharge Date:  [**2133-4-2**]\n\nDate of Birth:   [**2072-12-20**]       Sex:  M\n\nService:  [**Company 191**]\n\nHISTORY OF PRESENT ILLNESS:  This is a 60-year-old man with\nCAD, PVD who had difficulty speaking after left carotid\nendarterectomy in [**2133-2-16**].  The patient has had bilateral\ncarotid stenosis.  On [**2-21**] while he was sitting in a chair he\ndeveloped sudden onset of right arm and leg numbness,\nfollowed by right arm and leg weakness.  He also had\ndifficulty speaking.  He was admitted to [**Hospital3 **]\nand underwent a left carotid endarterectomy on [**2-26**] and\nafterwards began having severe left sided headache behind his\nleft eye that lasted for hours and was constant.\nNevertheless, he visited [**Hospital3 **] for continued\nheadaches and nausea and vomiting.  During one of those\nvisits he had a contortion of his right face and bilateral\narm jerking and was started on Dilantin with presumptive\ndiagnosis of seizures.  He has recovered from that event when\nwas again discharged home.  On [**3-13**] he again presented with\npersistent headaches, confusion and inability to talk.  He\nhad difficulty getting his words out.  He had a head CT at\n[**Hospital3 **] which showed a linear hyperintense region\nin the left central temporal lobe but also other lesions in\nthe left posterior parietal lobes.  At that time he was\ntransferred to the [**Hospital1 69**].  MRI\nof his head showed left MCA/ACA and left MCA/PCA watershed\nstrokes with acute and subacute hemorrhage conversions.  It\nwas thought at that time that he had extended his watershed\ninfarcts after carotid endarterectomy leading to a carotid\nhyperperfusion syndrome.  The patient was discharged from the\nneurologic Intensive Care Unit to a rehab facility.  On\nThursday, [**2133-3-26**], patient's wife noticed erythema on\npatient's face.  On [**3-27**] the visiting nurse [**First Name (Titles) 8706**] [**Last Name (Titles) 11282**] of\na rash on his arms as well.  The patient was noted to be\nfebrile and was admitted to the [**Company 191**] Firm.  In the EW,\npatient's Dilantin was discontinued and he was given Tegretol\ninstead.\n\nPAST MEDICAL HISTORY:  1) Left CEA in [**2133-2-16**].  2) CVA in\n[**2133-2-16**].  3) Paroxysmal atrial fibrillation.  4)  CAD.  5)\nPVD.  6) Hypercholesterolemia.  7) History of amaurosis\nfugax.  8) Status post lymph node removal.\n\nMEDICATIONS:  On admission, Lopressor 25 mg po bid, Dilantin\n200 mg po tid, Prilosec 40 mg po q day, Lipitor, Ambien.\n\nALLERGIES:  Iodine.\n\nSOCIAL HISTORY:  The patient lives in [**Location 3146**], tobacco since\n[**2126**], one pint of alcohol per day.  The patient works as a\ncarpenter.\n\nFAMILY MEDICAL HISTORY:  CAD.\n\nPHYSICAL EXAMINATION:  On admission, temperature 98.3, pulse\n86, blood pressure 94/65, respiratory rate 18, saturations\n96% on room air.  In general, alert, oriented times three, no\napparent distress.  HEENT:  Pupils are equal, round, and\nreactive to light, mucus membranes moist, oropharynx clear.\nNo lymphadenopathy.  Cardiovascular, regular rate and rhythm,\nno murmurs.  Lungs clear to auscultation bilaterally.\nAbdomen soft, nontender, non distended, positive bowel\nsounds.  Extremities, no cyanosis, erythema, edema.  Neuro,\ncranial nerves II through XII intact.  Skin red maculopapular\nblanching erythema on face, torso and extremities, sparing\nthe soles.  Bilateral lower extremity petechiae, no\nsignificant oral lesions noted.\n\nHOSPITAL COURSE:\n1.  Derm:  Over the course of patient's stay on [**Company 191**] Firm,\npatient had rigors and fevers of up to 101 degree.  The\npatient was initially continued on Tegretol.  The patient had\nworsening rash throughout his torso with lip swelling and\ntongue swelling.  The patient did not experience any\nrespiratory difficulties throughout the course of his stay on\nthe [**Company 191**] service.  A derm consult was obtained.  The\ndermatology team recommended discontinuing Tegretol.  Their\nthought was that the patient's symptoms were secondary to his\nhypersensitivity to Dilantin.  The patient was treated\nsymptomatically with IV fluids, Zantac, Benadryl and Synalar\ncream.  The patient was transferred to the Medical Intensive\nCare Unit overnight for observation given risk of respiratory\ndistress.  [**Hospital **] Medical Intensive Care Unit stay was\nuneventful.  Skin biopsy was also consistent with\nhypersensitivity reaction.  Over the course of patient's stay\nin the hospital, patient's rash started to improve with\ndecreasing erythema and edema.\n\n2.  Neuro:  Patient was seen by neurology service.  They\nrecommended stopping all anti-epileptic medications since\nthey thought that his symptoms were likely secondary to\ncarotid reperfusion syndrome and anti-seizure medications are\nnot necessarily beneficial under these circumstances.\n\n3.  GI:  Patient's LFTs were slightly elevated during his\nadmission.  The patient's Lipitor was held due to increased\nLFTs.  His increased LFTs were likely secondary to Dilantin.\nPatient to follow-up with his PCP to make sure LFTs are\ntrending down and before restarting Lipitor.\n\nDISCHARGE DIAGNOSIS:\n1.  Dilantin hypersensitivity reaction.\n\nDISCHARGE MEDICATIONS:  [**Doctor First Name **] 60 mg po bid, Zantac 150 mg\npo bid, Synalar ointment, Eucerin cream.  Discharged to home.\npatient to follow-up with PCP next week as well as with\ndermatology.  Patient's PCP to assess blood pressure before\nrestarting Atenolol.\n\n\n\n\n                            [**First Name8 (NamePattern2) **] [**Name8 (MD) **], M.D.  [**MD Number(1) 11283**]\n\nDictated By:[**Name8 (MD) 5753**]\nMEDQUIST36\n\nD:  [**2133-4-21**]  16:51\nT:  [**2133-4-21**]  16:57\nJOB#:  [**Job Number 11284**]\n"
        ],
        [
         "3",
         "6427",
         "31203",
         "139699",
         "2148-08-12",
         null,
         null,
         "Discharge summary",
         "Report",
         null,
         null,
         "Admission Date:  [**2148-7-29**]              Discharge Date:   [**2148-8-12**]\n\nDate of Birth:  [**2074-8-30**]             Sex:   M\n\nService: MEDICINE\n\nAllergies:\nPatient recorded as having No Known Allergies to Drugs\n\nAttending:[**First Name3 (LF) 832**]\nChief Complaint:\nFailure to thrive and hypoxemia\n\nMajor Surgical or Invasive Procedure:\nThoracentesis [**2148-8-1**]\n\n\nHistory of Present Illness:\n73 yo M w/ DM II (admissions for hypoglycemia), HTN, HL, DVTs\nand afib on coumadin, dCHF, CKD, EtOH abuse, who was recently\nadmitted to OSH for LGIB (2U PRBCs transfusions) ~ 2 wks ago,\nunderwent multiple polypectomies on colonoscopy and was treated\nfor a PNA (completed ABx 6 days ago) who now presents to [**Hospital1 18**]\nED for an evaluation of anorexia, weight loss, RLE edema and\nerythema, low grade fever and an episode of a fall at home\n(mechanical, patient slipped on own loose stool as he was unable\nto make it to the bathroom in time).\n\n\n\nPt. notes that over the past 1 month, he has had persistent\nanorexia, generalized fatigue and weight loss (amount unknown).\nHe notes that over the past 2 weeks, he has had intermittent\nloose stools ([**2-14**]/day).  he also noted increaseing swelling and\nerythema of his RLE after scrathcing his leg.  RLE has increased\nin size dramatically, however he states was not investigated by\nthe nursing staff at ALF.  He noted to have increasing amounts\nof weeping. Although he has severe neuropathy and usually does\nnot feel the skin on LEs, as of last week, RLE became painful.\n\n\n\nAlso of note, he has had increasing SOB, especially DOE over the\npast 6 weeks.  He has had interittent, non-productive cough.\nWhile hospitalized for his LGIB at [**Hospital3 **], he was\napparently treated for a PNA.  During that hospitalization was\nnoted to have n/v, fevers and \"decreased oxygen levels.\"  He has\nbeen to and from the [**Hospital3 **] on nearly a monthly basis\nfor SOB, recurrent falls (due to hypoglycemia).\n\n\n\nFinally of note, on morning of admission, he had a mechanical\nfall as note above.  He did not hit his head, did not have LOC.\nNo focal weakness noted.  Because of all of the above symptoms\nand signs, his daughter decided to send him to [**Hospital1 18**] [**Name (NI) **], as they\nwere not happy with care at [**Hospital3 **].\n\n.\n\nInitial VS in ED were  100.4 90 117/50 18 96% on x LNC.  Was\nfelt to have a RLE cellulitis and crackles bilaterally. Head CT\nwas negative for acute process. He was given Vancomycin 1g,\nZosyn, Levofloxacin, Albuterol 0.083% Neb, Ipratropium Bromide\nNeb, Aspirin 325mg.   While in ED awaiting a floor bed, became\nacutely hypoxic to the 70s, looked pale, placed on NRB.  EKG\nshowed new lateral lead ST depressions and an old R bundle.\nLENIs in ED were negative. CXR showed R sided effusion.\n\n.\n\nOn the floor, VS as below, he c/o of RLE pain, denied CP (see\nROS below).\n\n.\n\nReview of systems:\n\n(+) Per HPI, weight loss, non-productive cough since [**Month (only) **],\nSOB as above, diarrhea and weakness.  Reports increase in\nabdominal girth.\n\n(-) Denies chills, night sweats. Denies headache, sinus\ntenderness. Denies wheezing. Denies chest pain, chest pressure,\npalpitations. Denies abdominal pain, dysuria. Denies arthralgias\nor myalgias\n\n\nPast Medical History:\n- Type 2 diabetes - complicated by nephropathy, neuropathy,\ndiabetic foot and previous admission for hypoglycemia\n- Hypertension\n- Hyperlipidemia\n- Chronic renal insufficiency - baseline creatinine 1.6, last\nCr. at [**Hospital1 **] was 2.2 in [**2147**].\n- Benign prostatic hypertrophy\n- Hematuria s/p cystoscopy in [**2144**]\n- Alcohol dependence - no history of withdrawal seizures or DT\n- Alcoholic pancreatitis\n- Bilateral lower extremity DVT diagnosed [**8-/2146**]\n- Atrial Fibrillation dx [**2-20**]\n- Diastolic heart failure\n- Normocytic anemia\n- Multiple Polyps removed.\n\n\nSocial History:\nSocial History: He is divorced; daughter involved in his care.\nLives at [**Hospital3 **], Canaberry [**Doctor Last Name 6641**].\n\n- Tobacco: >50py smoking, quit cigarettes ~7 yrs ago\n- Alcohol:  [**2-14**] 3oz drinks EOD\n- Illicits:  denies.\n\nFamily History:\nMother who died recently at age [**Age over 90 **]. His father died at age 57\nago with coronary artery disease, an aneurysm, and kidney\nstones. He has two brothers and three sisters among whom there\nis a history of diabetes, hypertension, stroke but no history of\nkidney disease.\n\n\nPhysical Exam:\nGeneral Appearance: No acute distress, No(t) Overweight / Obese,\ntemporal atrophy, abdominal girth increase\n\nEyes / Conjunctiva: PERRL, Conjunctiva pale\n\nHead, Ears, Nose, Throat: Normocephalic, Poor dentition\n\nLymphatic: Cervical WNL\n\nCardiovascular: (S1: Normal), (S2: Normal), no m/g\n\nPeripheral Vascular: (Right radial pulse: Present), (Left radial\npulse: Present), (Right DP pulse: Not assessed), (Left DP pulse:\nNot assessed)\n\nRespiratory / Chest: (Expansion: Symmetric), (Breath Sounds:\nCrackles : LLL, Diminished: RML and RLL)\n\nAbdominal: Soft, Non-tender, Distended, shifting dullness\n\nExtremities: Right lower extremity edema: 2+, Left lower\nextremity edema: 1+, venous stasis L > R\n\nMusculoskeletal: Muscle wasting\n\nSkin:  Warm, RLE edematous, erythematous, TTP\n\nNeurologic: Attentive, Follows simple commands, Responds to:\nVerbal stimuli, Oriented (to): self, place and time. attentive\nto [**Doctor Last Name 1841**]\n\n\nPertinent Results:\nAdmission Labs:\n[**2148-7-28**] 11:20PM BLOOD WBC-11.7* RBC-3.57* Hgb-10.3* Hct-32.7*\nMCV-92 MCH-28.9 MCHC-31.6 RDW-15.7* Plt Ct-267#\n[**2148-7-30**] 06:00AM BLOOD WBC-9.5 RBC-3.31* Hgb-9.3* Hct-30.5*\nMCV-92 MCH-28.1 MCHC-30.5* RDW-15.6* Plt Ct-262\n[**2148-8-1**] 05:50AM BLOOD WBC-8.4 RBC-3.34* Hgb-9.6* Hct-30.6*\nMCV-92 MCH-28.6 MCHC-31.3 RDW-15.5 Plt Ct-282\n[**2148-8-4**] 01:35AM BLOOD WBC-11.1* RBC-3.10* Hgb-9.0* Hct-28.3*\nMCV-92 MCH-29.0 MCHC-31.6 RDW-15.5 Plt Ct-273\n[**2148-8-7**] 06:35AM BLOOD WBC-11.9* RBC-3.35* Hgb-9.4* Hct-30.6*\nMCV-91 MCH-28.1 MCHC-30.8* RDW-15.3 Plt Ct-228\n[**2148-8-8**] 09:25AM BLOOD WBC-15.1* RBC-3.17* Hgb-8.9* Hct-29.1*\nMCV-92 MCH-28.0 MCHC-30.6* RDW-15.7* Plt Ct-246\n[**2148-8-9**] 03:32AM BLOOD WBC-15.0* RBC-3.30* Hgb-9.2* Hct-30.4*\nMCV-92 MCH-28.0 MCHC-30.4* RDW-15.4 Plt Ct-224.\n.\n[**2148-7-28**] 11:20PM BLOOD PT-37.0* PTT-34.6 INR(PT)-3.8*\n[**2148-7-29**] 11:16AM BLOOD PT-37.9* PTT-35.8* INR(PT)-3.9*\n[**2148-7-31**] 05:55AM BLOOD PT-24.5* PTT-32.8 INR(PT)-2.3*\n[**2148-8-1**] 05:45PM BLOOD PT-22.0* INR(PT)-2.1*\n[**2148-8-3**] 04:53PM BLOOD PT-29.0* PTT-95.5* INR(PT)-2.9*\n[**2148-8-6**] 05:30AM BLOOD PT-37.9* PTT-34.3 INR(PT)-3.9*\n[**2148-8-7**] 06:35AM BLOOD PT-45.9* PTT-37.3* INR(PT)-4.9*\n[**2148-8-9**] 03:32AM BLOOD PT-17.1* PTT-28.9 INR(PT)-1.5*.\n.\n[**2148-7-28**] 11:20PM BLOOD Glucose-76 UreaN-33* Creat-2.8* Na-135\nK-4.4 Cl-98 HCO3-24 AnGap-17\n[**2148-8-7**] 06:35AM BLOOD Glucose-143* UreaN-80* Creat-4.3* Na-132*\nK-4.3 Cl-91* HCO3-28 AnGap-17\n[**2148-8-8**] 05:30AM BLOOD Glucose-172* UreaN-79* Creat-4.2* Na-133\nK-4.4 Cl-92* HCO3-27 AnGap-18\n[**2148-8-9**] 03:32AM BLOOD Glucose-209* UreaN-86* Creat-4.7* Na-131*\nK-5.0 Cl-90* HCO3-24 AnGap-22*\n.\n.\n[**2148-7-28**] 11:20PM BLOOD ALT-48* AST-191* LD(LDH)-303*\nAlkPhos-865* TotBili-0.7\n[**2148-8-7**] 06:35AM BLOOD ALT-38 AST-118* LD(LDH)-256* AlkPhos-788*\nTotBili-1.0\n[**2148-8-7**] 06:35AM BLOOD ALT-38 AST-118* LD(LDH)-256* AlkPhos-788*\nTotBili-1.0\n[**2148-8-9**] 03:32AM BLOOD ALT-28 AST-94* LD(LDH)-257* AlkPhos-777*\nTotBili-1.4\n.\n.\n[**2148-7-28**] 11:20PM BLOOD proBNP-4923*\n[**2148-7-28**] 11:20PM BLOOD cTropnT-0.01\n[**2148-7-29**] 06:25AM BLOOD CK-MB-2 cTropnT-0.03*\n[**2148-7-29**] 05:43PM BLOOD CK-MB-2 cTropnT-0.02*\n.\n[**2148-8-5**] 06:02AM BLOOD calTIBC-192* VitB12-1547* Folate-15.7\nFerritn-229 TRF-148*\n[**2148-8-8**] 05:30AM BLOOD Albumin-3.7 Calcium-8.7 Phos-6.0* Mg-2.9*\n[**2148-8-9**] 03:32AM BLOOD Calcium-8.8 Phos-7.4* Mg-2.9*\n.\n.\n[**2148-8-1**] 12:50PM BLOOD AFP-[**Numeric Identifier 24739**]*\n.\n.\nIMAGING:\nAbdominal U/S [**2148-8-1**]: Multiple confluent masses largely\nreplacing the left lobe and caudate. There is resultant\nperipheral biliary dilatation related to duct obstruction from\nthe mass as well as thrombosis of the left portal vein. In\naddition, there is focal non-occlusive thrombus involving the\nright posterior portal vein and IVC. The findings are most\nsuggestive of either hepatocellular carcinoma or peripheral\ncholangiocarcinoma. The left lobe lesions could be targeted via\npercutaneous biopsy once the patient's coagulation parameters\nhave been corrected. Bilateral simple renal cysts. No\ncholelithiasis; no specific evidence for acute cholecystitis.\n.\nRenal U/S [**2148-8-3**]: RENAL ULTRASOUND: The kidneys measure 10.0\ncm on the right and 10.7 cm on the left. Renal cortical thinning\nis noted bilaterally. Cyst is redemonstrated in the interpolar\nleft kidney which measures 1.6 cm. No stone, hydronephrosis, or\nsolid mass is seen in the kidneys. No perinephric fluid is\nnoted. The bladder is not visualized.\n.\nChest xray [**2148-8-8**]: SINGLE AP PORTABLE VIEW OF THE CHEST\nREASON FOR EXAM: Metastatic HCC, known right pleural effusion\nwith increasing shortness of breath. Comparison is made with\nprior study of [**8-5**]. Large right pleural effusion with\nadjacent atelectasis has worsened. Cardiomegaly is stable.\nPulmonary edema has improved. There is no evident pneumothorax\nor left pleural effusion.\n\nMICRO:\n[**2148-8-2**] 6:19 am MRSA SCREEN   No MRSA isolated.\n[**2148-8-1**] PLEURAL FLUID: ATYPICAL. Rare atypical cell with\nenlarged nucleus (see note).\n[**2148-8-1**] PLEURAL FLUID GRAM STAIN (Final [**2148-8-1**]): NO\nPOLYMORPHONUCLEAR LEUKOCYTES SEEN. NO MICROORGANISMS SEEN. FLUID\nCULTURE (Final [**2148-8-4**]):    NO GROWTH. ANAEROBIC CULTURE (Final\n[**2148-8-7**]):    NO GROWTH.\n[**2148-8-1**] 3:15 pm IMMUNOLOGy HBV Viral Load (Final [**2148-8-3**]):\n      HBV DNA not detected.\n      Performed using the Cobas Ampliprep / Cobas Taqman HBV\nTest.\n      Linear range of quantification: 40 IU/mL - 110million\nIU/mL.\n      Limit of detection: 10 IU/mL.\n[**2148-8-1**] 3:15 pm IMMUNOLOGY\n      HCV VIRAL LOAD (Final [**2148-8-2**]):\n      HCV-RNA NOT DETECTED.\n      Performed using the Cobas Ampliprep / Cobas Taqman HCV\nTest.\n      Linear range of quantification: 43 IU/mL - 69 million\nIU/mL.\n      Limit of detection: 18 IU/mL.\n[**2148-8-5**] 9:22 am STOOL   CLOSTRIDIUM DIFFICILE TOXIN A & B TEST\n(Final [**2148-8-6**]): Feces negative for C.difficile toxin A & B by\nEIA.\n\n.\n.\n.\n.\nDate: [**2148-8-12**]\nSigned by [**First Name5 (NamePattern1) 8035**] [**Last Name (NamePattern1) 24740**] on [**2148-8-12**] at 1:47 pm\nAffiliation: [**Hospital1 18**]\n\n     Referral visit paged by staff nurse, pt expired in the\nprocess of the Sacrament of the Sick. Commendation prayers and\nprayers after death were said. Offered pastoral presence and\nblessed the family members.\n     Fr.[**First Name5 (NamePattern1) **] [**Last Name (NamePattern1) **]\n     Pastoral Care dept.\n     Pager#[**Serial Number 24741**]\n\n\nBrief Hospital Course:\n*This patient passed away on [**8-12**]*\nMr. [**Known lastname 24413**] is a 73 yo M with multiple medical problems\nincluding DM II (admissions for hypoglycemia), HTN, HL, DVTs and\nafib on coumadin, dCHF, CKD (Cr 2.2), EtOH abuse, who recently\npresented [**2148-7-29**] to [**Hospital1 18**] after having a mechanical fall in the\nsetting of new persistent anorexia, generalized fatigue, weight\nloss (unknwon amount), and RLE cellulitis and was admitted to\nthe MICU after becoming hypoxic to the 70s in the ED and needing\nto be placed on nonrebreather. Pt passed away [**8-12**] w/o\nintervention in the presence of family and pastoral care.\n\n# Hypoxemic respiratory failure.  Mr. [**Known lastname 24413**] required a NRB the\nED and was easily weaned to 6L NC on arrival to the MICU. He was\nfound to have a right pleural effusion on CXR with findings\nconcerning for HAP. He was started on Cefepime, Vancomycin and\nflagyl. He was transferred to the general medical floor and his\nantibiotic coverage was adjusted to levofloxacin and vancomycin\non [**7-29**]. A thoracentesis was performed on [**8-1**] that was found to\nbe transudative. Following thoracentesis, on [**8-2**] his\nrespiratory staus decompensated and he again had an increased\noxygen requirement. This decompensation could possibly have\nresulted from worsened pulmonary edema. He was transferred to\nthe MICU on [**8-3**] where he required a face tent in addition to\nthe nasal canula for oxygenation. Mr. [**Known lastname 24413**] was found to have\nsignifcant pulmonary edema on CXR and a renal consult was\nobtained to help guide diuresis. On [**8-3**] and [**8-4**] he recieved\n10mg metolazone 30min prior to lasix 80mg IV to achieve adequate\ndiuresis. He was weaned from the face tent to 3L NC and upon\nclinical stabilization was transferred to the medicine floor on\n[**2148-8-4**].\n.\nOn the medicine floor he was continued on 3L NC, with continued\nsats to mid-90's during the day. However, on the morning of\n[**2148-8-8**], pt had desats to mid-70s during a nebulizer treatment\nand had been off O2. He was placed back on 3L NC, and quickly\nreturned to O2 sats in the mid-90s. However, pt's breathing\nappeared more labored, and the MICU team was consulted.\nThoracentesis performed in MICU showed Labs were consistent with\ntransudative effusion: serum Protein ratio 0.45, LDH ratio 0.43,\n375 WBC, pH 7.42. Cytology negative for malignant cells.\nIncidentally discovered liver masses on RUQ u/s (marked alk phos\nelevation). Sono also positive for portal vein thrombosis and\nIVC thrombus suggestive of either an infiltrative hepatocellular\ncarcinoma or peripheral cholangiocarcinoma. Hepatology was\nconsulted. Serologies negative for HCV, HBV, but AFP was\nelevated at [**Numeric Identifier 24742**]. Recurrent pleural effusions attributed to\nmetastases from liver primary ca.\n.\nPt was stabilized and transferred back to medicine floor. He was\ntransferred back to MICU 2nd time for hypoxemic resp failure,\nworsened pulm edema. He was diuresied but serum Cr increased.\nRenal consulted. Pt started on started on octreotide and albumin\nfor suspected HRS. Called [**8-7**] for SOB but quickly returned to\nbaseline. He was stabilized and transferred back to medicine\nfloor with intention to treat comfort and minimize medical\nmanagement.\n.\n.\n# Palliative Care/End of life issues: Mr. [**Known lastname 24413**] was found to\nhave liver malignancy likely HCC with metastases. On [**8-8**] tumor\nboard consensus was that there are no treatment options that can\nbe offered given his clinical picture. Pt made DNR DNI with\nfocus on comfort. 1 of 4 of his children prefers inpt to home\nhospice. HCP is daughter [**Name (NI) 24743**]. Palliative care is following\nand facilitating transfer to hospice, likely home hospice\nservices. There is a prelim referral to Old [**Hospital **] Hospice.\nPt schedule for placement of palliative pleurx catheter for\nrecurrent R sided effusions. Plan is to discharge to home with\nhospice care, pending palliative care recs and family wishes on\nMonday [**2148-8-12**]. Case management and social work aware. Pastoral\ncare visit requested via VM left on [**2148-8-10**] by primary team at\nrequest of daughter. The patient passed away on [**8-12**] in the\npresence of pastoral care.\n.\n# Abdominal distension.  Mr. [**Known lastname 24413**] was found to have\nsignificant abdominal distention. Serial exams did not indicate\nan acute intraabdominal process. Exam was non-tender. An\nabdominal U/S on [**8-1**] demonstrated liver masses, which in the\nsetting of cirrhosis and transaminitis with AFP of >14,000 is\nparticularly concerning for HCC. A CT biopsy was delayed because\nof his coagulopathy with a climbing INR of 3.2 likely [**2-13**] liver\ndysfunction. In addition, an abdominal MRI was also delayed\nbecuase of his tenuous renal function with a climbing Cr of 4.1.\n.\nOn the medicine floors, heme/onc was consulted. Per their recs,\na biopsy was not necessarily needed to diagnose HCC in this\ngentleman with known cirrhosis and AFP of 15,000. The pt was\ndiscussed at tumor board on [**2148-8-8**], and consensus was that\nthere are no treatment options that can be offered given his\nclinical picture. Pt made DNR DNI with focus on comfort.\nCurrently denies any abd discomfort, feelings of constipation or\npressure or difficulty breathing.\n.\n# Cellulitis: Mr. [**Known lastname 24413**] was continued on Vancomycin,\nLevofloxacin as above. Discontinued in MICU after diagnosis of\nmalignant hepatic process and non-infectious pleural effusion.\nWound care was consulted and recommended wraps, elevation of\nlegs. He continued to be afebrile, but had an elevated white\ncount to 11.9 on [**8-7**]. Labs were not drawn after [**8-9**] and goals\nof care concerned primarily for comfort and palliative medical\nmanagement.\n.\n# Acute on chronic renal failure: During his ICU stay, his serum\ncreatinine began to climb from his baseline of 2.2, up to 4.0.\nNephrology was consulted on [**2148-8-3**] who questioned if this could\nbe hepatorenal syndrome. Of note, prior to his transfer to the\nICU, he had received one dose of albumin on the medicine floors,\nbut had not had a true albumin challenge. The ICU team attempted\ndiuresis with IV lasix and metolazone; however, he remained net\npositive during his MICU stay. Upon transfer from 2nd MICU stay\nback to medicine floors, his creatinine and BUN continued to\nclimb. Diuresis was held. He was maintained on fluid restriction\nto 1200ml, low phos, low sodium diet.\n.\n# Hypervolemic hyponatremia: FeNa<1%, likely secondary to known\ncirrhosis, and renal failure. His sodium was trended, pt\nremained asymptomatic.\n.\n# Atrial fibrillation: During his admission, his coumadin was\nheld given a  supratherapeutic INR likely [**2-13**] hepatic failure.\nHe was started on metoprolol 12.5mg qid for rate control and\nincreased dose to 37.5mg for palliation of pulmo edema and SOB.\nOf note, pt has been receiving albuterol neb treatments for his\nhypoxia.\n.\n# DVTs: He was started on heparin gtt, and his home coumadin was\nheld because of a supratherapeutic INR. The heparin was\ndiscontinued on [**2148-8-5**], given elevated INR of 3.2.\n.\n# DM II. Pt has history of hypoglycemia necessitating\nhospitalization. His serum glucose was actively titrated with\ninsulin while admitted to the MICU. He was continued on insulin\nsliding scale after transfer to the medicine floor. Fingerstick\nschedule was reduced to QAM and QPM monitoring for pt comfort.\nMaintained on lantus and humalog sliding scale.\n.\n# HTN. He was normotensive while admitted to the MICU thus his\nhome BP regimen was held.\n.\n# HL. He was continued on his home dose of simvastatin\ninitially, and was discontinued after transfer from MICU to\nmedicine floors with goal of care for short term, comfort and\npalliation.\n.\n# Iron deficiency anemia: His hct remained stable, with no s/s\nof bleeding.\n.\n# CAD.  His EKG had ST depressions, but he was asymptomatic. In\naddition, this troponins were negative for an MI.\n.\n# CHF. Elevated BNP suggesting CHF decompensation.\n.\n# EtOH abuse: Last use 2 weeks PTA. He was given\nthiamine/MVI/folate. CIWA was not necessary.\n\nMedications on Admission:\n1. Aspirin 81 mg\n2. Atenolol 100 mg daily\n3. Insulin Glargine Fifty (50) units bedtime.\n4. Acetaminophen 325 mg prn\n5. Doxazosin 4 mg HS\n6. Folic Acid 1 mg\n7. Amlodipine 10 mg PO\n8. Simvastatin 40 mg qd\n9. Multivitamin  qd\n10. Thiamine 100 mg qd\n11. Warfarin 5 mg daily\n12. Lasix 40 mg [**Hospital1 **], recently increased to 80mg [**Hospital1 **]\n13. Sliding scale insulin\n\nDischarge Medications:\n1. Acetaminophen 325 mg Tablet Sig: Two (2) Tablet PO Q6H (every\n6 hours) as needed for pain/fever.\n2. Doxazosin 4 mg Tablet Sig: One (1) Tablet PO HS (at bedtime).\n\n3. Senna 8.6 mg Tablet Sig: One (1) Tablet PO twice a day.\nDisp:*60 Tablet(s)* Refills:*2*\n4. Docusate Sodium 100 mg Capsule Sig: One (1) Capsule PO BID (2\ntimes a day).\nDisp:*60 Capsule(s)* Refills:*2*\n5. Lidocaine 5 %(700 mg/patch) Adhesive Patch, Medicated Sig:\nOne (1) Adhesive Patch, Medicated Topical DAILY (Daily) as\nneeded for shoulder pain.\nDisp:*10 Adhesive Patch, Medicated(s)* Refills:*0*\n6. Tiotropium Bromide 18 mcg Capsule, w/Inhalation Device Sig:\nOne (1) Cap Inhalation DAILY (Daily).\n7. Albuterol Sulfate 2.5 mg /3 mL (0.083 %) Solution for\nNebulization Sig: One (1)  Inhalation Q2H (every 2 hours) as\nneeded for wheezing,SOB.\nDisp:*qs qs* Refills:*0*\n8. Ipratropium Bromide 0.02 % Solution Sig: One (1)  Inhalation\nQ2H (every 2 hours) as needed for SOB, wheezing.\nDisp:*qs qs* Refills:*0*\n9. Miconazole Nitrate 2 % Powder Sig: One (1) Appl Topical TID\n(3 times a day).\nDisp:*qs qs* Refills:*2*\n10. Cortisone 1 % Cream Sig: One (1) Appl Topical QID (4 times a\nday) as needed for itching.\n11. Metoprolol Tartrate 25 mg Tablet Sig: 1.5 Tablets PO TID (3\ntimes a day).\nDisp:*45 Tablet(s)* Refills:*2*\n12. Lidocaine HCl 2 % Gel Sig: One (1) Appl Mucous membrane TID\n(3 times a day) as needed for pain.\nDisp:*qs qs* Refills:*0*\n13. Trazodone 50 mg Tablet Sig: one half  Tablet PO HS (at\nbedtime) as needed for insomnia.\nDisp:*15 Tablet(s)* Refills:*0*\n14. Camphor-Menthol 0.5-0.5 % Lotion Sig: One (1) Appl Topical\nQID (4 times a day) as needed for itching.\nDisp:*qs qs* Refills:*0*\n15. Hydromorphone 2 mg Tablet Sig: 1-2 Tablets PO Q3H (every 3\nhours) as needed for pain.\nDisp:*30 Tablet(s)* Refills:*0*\n\n\nDischarge Disposition:\nExpired\n\nDischarge Diagnosis:\nLiver malignancy - metastatic, likely HCC\nAcute on chronic renal failure\nRecurrent pleural effusions\n\nDischarge Condition:\nDeceased\n\n\nDischarge Instructions:\nDear Mr. [**Known lastname 24413**],\n\nIt was a pleasure taking care of you during this\nhospitalization. You were admitted with shortness of breath and\nwere found to have fluid on the lungs. A procedure was done to\nremove the fluid.\nYou also had imaging to look at your liver, and it was found\nthat you had liver masses. After a meeting with your doctors and\nyour family it was decided that the best treatment for you would\nbe to manage your heart rate, reduce feelings of shortness of\nbreath, and keep you otherwise as comfortable as possible.\nYou were transferred from the MICU to the general medicine\nfloor. Palliative care continued to follow your care after the\ntransfer and made a referral for in home hospice with Old [**Hospital **]\nHospice.\n\nYour family was counseled and participated actively in your\ncare.\n.\nThe following medications were continued in the hospital with\nyour comfort as the primary goal:\n- metoprolol tartrate 37.5 TID\n- Acetaminophen 650mg PO Q6prn pain/fever\n- Tiotropium 1 cap IH daily\n- ipratropium nebs Q2 PRN\n- albuterol nebs Q2 PRN\n- insulin SS\n- doxazosin 4mg QHS daily\n- colace\n- senna\n- bisacodyl PRN\n- hydrocortisone cream PRN back rash\n- miconazole powder 2% 1appl TP TID PRN\n- Odansetron 4-8mg IV q8\n- Hydromorphone 2-4mg PO q3prn pain\n- Sarna lotion 1 appl TP QID prn itch\n- trazodone 12.5-25mg PO HS prn insomnia\n- Lidocaine jelly 2% 1 appl TP TID prn pain at foley site\n- Lidocaine patch 5% 1 patch daily to shoulder\n\n\n\n"
        ],
        [
         "4",
         "12491",
         "13422",
         "199876",
         "2148-05-04",
         null,
         null,
         "Discharge summary",
         "Report",
         null,
         null,
         "Admission Date:  [**2148-4-23**]       Discharge Date:  [**2148-5-4**]\n\nDate of Birth:   [**2072-3-30**]       Sex:  F\n\nService:  CARDIAC SURGERY\n\nCHIEF COMPLAINT:  Shortness of breath with activity\n\nHISTORY OF PRESENT ILLNESS:  Ms. [**Known lastname **] is a 75-year-old\npatient of Dr. [**First Name4 (NamePattern1) **] [**Last Name (NamePattern1) 11493**] who was referred to us with a\nhistory of severe aortic stenosis.  She does not complain of\nany chest pain, but does report progressive shortness of\nbreath with exertion that has been getting worse over the\npast year.  She finds that she needs to stop and rest to\ncatch her breath while cleaning the house and becomes very\nshort of breath in doing things such as ascending a flight of\nstairs.  Her last echocardiogram in [**2147-8-21**] demonstrated\na mean aortic valve gradient of 45 mmHg and a peak gradient\nof 70 mmHg with an estimated valve area of 0.5 square cm.\nShe had a cardiac catheterization that demonstrated a 50%\nlesion in the LAD and mid right coronary artery lesion.  At\ntime of catheterization, she had a mean gradient to 60 mmHg.\n\nPAST MEDICAL HISTORY:\n1.  Aortic stenosis\n2.  Hypertension\n3.  Hypercholesterolemia\n\nMEDICATIONS:\n1.  Aspirin 325 mg po q day\n2.  Nifedipine 60 mg po bid\n3.  Lopressor 50 mg po bid\n4.  Vasotec 20 mg po bid\n5.  Hydrochlorothiazide\n\nALLERGIES:  The patient is not allergic to any medicines.\n\nPHYSICAL EXAM:\nVITAL SIGNS:  Her heart rate is 54.  Her blood pressure is\n153/69.  Her preoperative weight is 46.8 kg.\nGENERAL:  She is an older woman in no acute distress.\nHEAD, EARS, EYES, NOSE AND THROAT:  Her pupils are equally\nround and reactive to light.  Neck is supple, good range of\nmotion, no tenderness or swelling.  There is no jugular\nvenous distention.\nCHEST:  Distant breath sounds, but is otherwise clear to\nauscultation.  She has a hard gumball size nodule in her\nright breast.\nHEART:  Normal S1 and S2 with a loud blowing systolic murmur\nheard best at the left sternal border.\nABDOMEN:  Soft with no active bowel sounds.  No masses, no\naortic pulsations or abdominal bruits.\nEXTREMITIES:  Warm with slightly cool toes.\nNEUROLOGIC:  She is awake and oriented with equal strength\nthroughout.\n\nADMISSION LABS:  Her white count is 6.9, hematocrit 36.8,\nplatelets 186.  BUN and creatinine are 19 and 1.2.  Her\npotassium is 4.4.\n\nHOSPITAL COURSE:  The patient was admitted through same day\nadmissions and on [**2148-4-23**], was taken to the Operating\nRoom where she had a two vessel coronary artery bypass graft\nwith a tissue aortic valve replacement.  Her grafts are left\ninternal mammary artery to LAD and saphenous vein graft to\ndistal right coronary artery.  In addition, she has a #19 RSR\npericardial valve.  Her procedure itself was unremarkable\npostoperatively.  She was taken intubated on Levophed and\npropofol drips to the Cardiac Surgery Intensive Care Unit.\nThat night she had what we considered to be an enormous\nvolume requirement and had to be transfused with 2 units of\npacked red blood cells, 2 units of fresh frozen plasma and\nanother 3500 cc of crystalloid.  In addition, she required\nmilrinone in addition to her Levophed.  All of this for\ncardiac index swan numbers that continued to diminish.  She\ndid have some atrial and ventricular ectopy and was started\non intravenous amiodarone.\n\nBy the first postoperative day, she remained intubated, but\nlater on that day was extubated.  She never had to be\nreintubated, but she did require BIPAP on that evening for in\nincrease work up breathing.  By the second postoperative day,\nshe was maintaining her saturations on 100% nonrebreather and\nover the next day was able to be weaned to a face tent and 4\nliters of nasal cannula.  She spent several days in the\nIntensive Care Unit because of her tenuous pulmonary status.\nIn addition, she had several bouts of atrial fibrillation\nwith rates anywhere from 80 to 130.  Each time these\ncorrected with a little bit of intravenous Lopressor or oral\nLopressor and intravenous amiodarone.  She continued to have\nthese paroxysmal episodes of atrial fibrillation for about\nthe first five postoperative days.  However, since that time,\nno further episodes were seen and it was believed that she\nhad become therapeutic on her amiodarone.  For this reason,\nshe did not need to be anticoagulated.\n\nThe patient remained in the Intensive Care Unit for a total\nof nine days during this time.  We used her intensive\nmonitoring setting to properly diurese her and observe her\nfor any further arrhythmia.  On the ninth postoperative day,\nshe was transferred to the floor without incident.  From\nthere she remained stable and discharge planning was\ninitiated.  This discharge summary was dictated on [**5-3**]\nin the anticipation that the patient may go to rehabilitation\non the following day.\n\nThe patient was transferred to rehabilitation on the\nfollowing medications:\n1.  Lopressor 25 mg po bid, hold for heart rate less than 55,\nsystolic blood pressure less than 100\n2.  Colace 100 mg po bid\n3.  Aspirin 325 mg po q day\n4.  Amiodarone 400 mg po bid x7 days, then 400 mg po q day\n5.  Protonix 40 mg po q day\n6.  Heparin 5000 units subcutaneous [**Hospital1 **]\n7.  Klonopin 0.25 mg po q hs prn\n8.  Lasix 40 mg po bid x7 days\n9.  Potassium chloride 20 milliequivalents po bid x7 days\n10. Tylenol 650 mg po q 4 to 6 hours prn\n11. Colace 100 mg po bid\n12. Atrovent metered dose inhaler 2 puffs qid\n\nAfter seven days, the patient's Lasix and potassium may or\nmay not need to continue.  Of note, she is not presently on\nher Vasotec and hydrochlorothiazide that she took\npreoperatively.  These may need to be restarted in the next\nseven days.\n\nThe patient is instructed to follow up with her primary care\nphysician, [**Last Name (NamePattern4) **]. [**First Name8 (NamePattern2) **] [**Last Name (NamePattern1) 27542**], in approximately two weeks.\nIn addition, she is to follow up with Dr. [**First Name8 (NamePattern2) **] [**Last Name (NamePattern1) 1537**] in\napproximately four weeks.\n\nDISCHARGE DIAGNOSES:\n1.  Aortic stenosis\n2.  Coronary artery disease, now status post coronary artery\nbypass graft x2 with tissue aortic valve replacement\n3.  Hypertension, controlled\n4.  Hypercholesterolemia, controlled\n\n\n\n\n                            [**First Name11 (Name Pattern1) 275**] [**Initials (NamePattern4) **] [**Last Name (NamePattern4) **], M.D.  [**MD Number(1) 1540**]\n\nDictated By:[**Last Name (NamePattern1) 9638**]\nMEDQUIST36\n\nD:  [**2148-5-3**]  13:10\nT:  [**2148-5-3**]  13:23\nJOB#:  [**Job Number 4515**]\n"
        ]
       ],
       "shape": {
        "columns": 11,
        "rows": 5
       }
      },
      "text/html": [
       "<div>\n",
       "<style scoped>\n",
       "    .dataframe tbody tr th:only-of-type {\n",
       "        vertical-align: middle;\n",
       "    }\n",
       "\n",
       "    .dataframe tbody tr th {\n",
       "        vertical-align: top;\n",
       "    }\n",
       "\n",
       "    .dataframe thead th {\n",
       "        text-align: right;\n",
       "    }\n",
       "</style>\n",
       "<table border=\"1\" class=\"dataframe\">\n",
       "  <thead>\n",
       "    <tr style=\"text-align: right;\">\n",
       "      <th></th>\n",
       "      <th>ROW_ID</th>\n",
       "      <th>SUBJECT_ID</th>\n",
       "      <th>HADM_ID</th>\n",
       "      <th>CHARTDATE</th>\n",
       "      <th>CHARTTIME</th>\n",
       "      <th>STORETIME</th>\n",
       "      <th>CATEGORY</th>\n",
       "      <th>DESCRIPTION</th>\n",
       "      <th>CGID</th>\n",
       "      <th>ISERROR</th>\n",
       "      <th>TEXT</th>\n",
       "    </tr>\n",
       "  </thead>\n",
       "  <tbody>\n",
       "    <tr>\n",
       "      <th>0</th>\n",
       "      <td>1227</td>\n",
       "      <td>3403</td>\n",
       "      <td>172500</td>\n",
       "      <td>2172-06-20</td>\n",
       "      <td>NaN</td>\n",
       "      <td>NaN</td>\n",
       "      <td>Discharge summary</td>\n",
       "      <td>Report</td>\n",
       "      <td>NaN</td>\n",
       "      <td>NaN</td>\n",
       "      <td>Admission Date:  [**2172-6-15**]              ...</td>\n",
       "    </tr>\n",
       "    <tr>\n",
       "      <th>1</th>\n",
       "      <td>2055</td>\n",
       "      <td>17137</td>\n",
       "      <td>174999</td>\n",
       "      <td>2156-07-04</td>\n",
       "      <td>NaN</td>\n",
       "      <td>NaN</td>\n",
       "      <td>Discharge summary</td>\n",
       "      <td>Report</td>\n",
       "      <td>NaN</td>\n",
       "      <td>NaN</td>\n",
       "      <td>Admission Date:  [**2156-6-29**]       Dischar...</td>\n",
       "    </tr>\n",
       "    <tr>\n",
       "      <th>2</th>\n",
       "      <td>2077</td>\n",
       "      <td>6541</td>\n",
       "      <td>110445</td>\n",
       "      <td>2133-04-02</td>\n",
       "      <td>NaN</td>\n",
       "      <td>NaN</td>\n",
       "      <td>Discharge summary</td>\n",
       "      <td>Report</td>\n",
       "      <td>NaN</td>\n",
       "      <td>NaN</td>\n",
       "      <td>Admission Date:  [**2133-3-28**]       Dischar...</td>\n",
       "    </tr>\n",
       "    <tr>\n",
       "      <th>3</th>\n",
       "      <td>6427</td>\n",
       "      <td>31203</td>\n",
       "      <td>139699</td>\n",
       "      <td>2148-08-12</td>\n",
       "      <td>NaN</td>\n",
       "      <td>NaN</td>\n",
       "      <td>Discharge summary</td>\n",
       "      <td>Report</td>\n",
       "      <td>NaN</td>\n",
       "      <td>NaN</td>\n",
       "      <td>Admission Date:  [**2148-7-29**]              ...</td>\n",
       "    </tr>\n",
       "    <tr>\n",
       "      <th>4</th>\n",
       "      <td>12491</td>\n",
       "      <td>13422</td>\n",
       "      <td>199876</td>\n",
       "      <td>2148-05-04</td>\n",
       "      <td>NaN</td>\n",
       "      <td>NaN</td>\n",
       "      <td>Discharge summary</td>\n",
       "      <td>Report</td>\n",
       "      <td>NaN</td>\n",
       "      <td>NaN</td>\n",
       "      <td>Admission Date:  [**2148-4-23**]       Dischar...</td>\n",
       "    </tr>\n",
       "  </tbody>\n",
       "</table>\n",
       "</div>"
      ],
      "text/plain": [
       "   ROW_ID  SUBJECT_ID  HADM_ID   CHARTDATE  CHARTTIME  STORETIME  \\\n",
       "0    1227        3403   172500  2172-06-20        NaN        NaN   \n",
       "1    2055       17137   174999  2156-07-04        NaN        NaN   \n",
       "2    2077        6541   110445  2133-04-02        NaN        NaN   \n",
       "3    6427       31203   139699  2148-08-12        NaN        NaN   \n",
       "4   12491       13422   199876  2148-05-04        NaN        NaN   \n",
       "\n",
       "            CATEGORY DESCRIPTION  CGID  ISERROR  \\\n",
       "0  Discharge summary      Report   NaN      NaN   \n",
       "1  Discharge summary      Report   NaN      NaN   \n",
       "2  Discharge summary      Report   NaN      NaN   \n",
       "3  Discharge summary      Report   NaN      NaN   \n",
       "4  Discharge summary      Report   NaN      NaN   \n",
       "\n",
       "                                                TEXT  \n",
       "0  Admission Date:  [**2172-6-15**]              ...  \n",
       "1  Admission Date:  [**2156-6-29**]       Dischar...  \n",
       "2  Admission Date:  [**2133-3-28**]       Dischar...  \n",
       "3  Admission Date:  [**2148-7-29**]              ...  \n",
       "4  Admission Date:  [**2148-4-23**]       Dischar...  "
      ]
     },
     "execution_count": 106,
     "metadata": {},
     "output_type": "execute_result"
    }
   ],
   "source": [
    "df_notes.head()"
   ]
  },
  {
   "cell_type": "code",
   "execution_count": 107,
   "id": "6813a1dd",
   "metadata": {},
   "outputs": [
    {
     "data": {
      "text/plain": [
       "array(['Discharge summary'], dtype=object)"
      ]
     },
     "execution_count": 107,
     "metadata": {},
     "output_type": "execute_result"
    }
   ],
   "source": [
    "df_notes.CATEGORY.unique()"
   ]
  },
  {
   "cell_type": "code",
   "execution_count": 108,
   "id": "d163c1e4",
   "metadata": {},
   "outputs": [
    {
     "data": {
      "text/plain": [
       "'Admission Date:  [**2172-6-15**]              Discharge Date:   [**2172-6-20**]\\n\\nDate of Birth:  [**2099-5-18**]             Sex:   F\\n\\nService: CARDIOTHORACIC\\n\\nAllergies:\\nPatient recorded as having No Known Allergies to Drugs\\n\\nAttending:[**First Name3 (LF) 1283**]\\nChief Complaint:\\nDyspnea on exertion\\n\\nMajor Surgical or Invasive Procedure:\\nMitral Valve Replacement, Cryomaze procedure and Left Atrial\\nAppendage Resection [**2172-6-16**]\\n\\nHistory of Present Illness:\\n72 y/o female with known mitral regurgitation who was referred\\nfor surgical intervention.\\n\\nPast Medical History:\\nMitral Regurgitation, Atrial Fibrillation h/o cardioversion,\\nHypertension, Chronic Obstructive Pulmonary Disease, Hodgkin\\'s\\ndisease s/p Chemo, Squamous Cell cncer right calf s/p excision,\\nHypothyroidism, s/p Hysterectomy, s/p c-section and\\nappendectomy, s/p lumbar disc surgery\\n\\nSocial History:\\nDenies tobacco use. Occasional ETOH. Lives with husband.\\n\\nFamily History:\\nNon-contributory\\n\\nPhysical Exam:\\nBP: 61 18 128/64 5\\'5\" 131#\\nGeneral: Elderly female in NAD\\nHEENTL PERRL, EOMI\\nNeck: Supple, FROM, Carotids @+ B, transmitted murmur\\nLungs: CTAB -w/r/r\\nHeart: RRR 3/6 systolic murmur\\nAbd: Soft, NT/ND +BS\\nExt: Warm, well-perfused 1+ pedal pulses, -varicosities\\nNeuro: MAE, non-focal, A&O x 3\\n\\nPertinent Results:\\nEcho [**6-16**]: Prebypass: Left ventricular cavity size, and systolic\\nfunction are normal (LVEF>55%). Intrinsic function is probably\\ndepressed in the setting of moderate mitral regurgitation. There\\nis mild left ventricular hypertrophy. There are complex (>4mm)\\natheroma in the descending thoracic aorta. The aortic valve\\nleaflets (3) are mildly thickened. There is no aortic valve\\nstenosis. Mild (1+) aortic regurgitation is seen. The mitral\\nvalve leaflets are myxomatous. There is moderate/severe mitral\\nvalve prolapse of the anterior and posterior mitral leaflets..\\nModerate (2+)  mitral regurgitation is seen. The mitral\\nregurgitation jet is eccentric. There are multiple eccentric\\njets seen. Significant pulmonic regurgitation is seen. Post\\nbypass: Biventricular systolic function is preserved.\\nBioprosthetic valve seen in the mitral position. Valve appears\\nwell seated. Leaflets move well. No mitral regurgitation\\ndetected. Mean gradient across the bioprosthetic valve is 2\\nmmHg. Aorta appears intact post decannulation.\\nCXR [**6-19**]: There is small left pneumothorax on the left apex that\\nis stable compared to the previous study. There is also a small\\nright pneumothorax at the right lung apex that is not well seen\\non the previous study. There is left subclavian CV line with its\\ntip in distal third SVC. There is prosthetic mitral valve that\\nis stable compared to the previous study. There is left pleural\\neffusion stable compared to previous study. Heart size is mildly\\nenlarged. Mediastinal and hilar contours are normal.\\n[**2172-6-15**] 02:00PM BLOOD WBC-6.9 RBC-3.81* Hgb-11.7* Hct-32.9*\\nMCV-86 MCH-30.8 MCHC-35.7* RDW-15.1 Plt Ct-246\\n[**2172-6-20**] 05:40AM BLOOD WBC-9.4 RBC-3.23* Hgb-9.9* Hct-28.4*\\nMCV-88 MCH-30.7 MCHC-34.9 RDW-14.2 Plt Ct-161\\n[**2172-6-15**] 02:00PM BLOOD PT-12.6 PTT-22.9 INR(PT)-1.1\\n[**2172-6-20**] 05:40AM BLOOD PT-11.5 PTT-21.7* INR(PT)-1.0\\n[**2172-6-15**] 02:00PM BLOOD Glucose-91 UreaN-26* Creat-1.0 Na-139\\nK-4.6 Cl-105 HCO3-24 AnGap-15\\n[**2172-6-19**] 10:55AM BLOOD UreaN-14 Creat-0.8 Na-138 K-4.0\\n\\nBrief Hospital Course:\\nMs. [**Known lastname 7739**] was admitted prior to surgery secondary to her\\nCoumadin which she stopped on [**6-10**]. Her INR was checked and she\\nwas started on Heparin. On [**6-16**] she was brought to the operating\\nroom where she underwent a mitral valve replacement and maze\\nprocedure. Please see operative report for surgical details.\\nFollowing surgery she was transferred to the CSRU for invasive\\nmonitoring in stable condition. Later on op day she was weaned\\nfrom sedation, awoke neurologically intact and extubated. She\\nwas weaned off all drip and started on beta blockers and\\ndiuretics. On this day she had several episodes of bradycardia\\nand beta blockade was temporarily held. On post-op day two she\\nappeared to be doing well and was transferred to the SDU. Chest\\ntubes were removed on this day and epicardial pacing wires on\\npost-op day three. Coumadin and Amiodarone were restarted but\\nshe remained in sinus rhythm. Physical therapy followed patient\\nduring entire post-op course for strength and mobility. She\\ncontinued to improve quite well and was discharged home with VNA\\nservices and the appropriate follow-up appointments on post-op\\nday four.\\n\\nMedications on Admission:\\nPremarin, Synthroid, Atenolol, Cozaar, Coumadin, Folate,\\nAspririn, Amiodarone\\n\\nDischarge Medications:\\n1. Potassium Chloride 10 mEq Capsule, Sustained Release Sig: Two\\n(2) Capsule, Sustained Release PO Q12H (every 12 hours) for 7\\ndays.\\nDisp:*28 Capsule, Sustained Release(s)* Refills:*0*\\n2. Docusate Sodium 100 mg Capsule Sig: One (1) Capsule PO BID (2\\ntimes a day).\\nDisp:*60 Capsule(s)* Refills:*2*\\n3. Ranitidine HCl 150 mg Tablet Sig: One (1) Tablet PO BID (2\\ntimes a day).\\nDisp:*60 Tablet(s)* Refills:*2*\\n4. Aspirin 81 mg Tablet, Delayed Release (E.C.) Sig: One (1)\\nTablet, Delayed Release (E.C.) PO DAILY (Daily).\\nDisp:*30 Tablet, Delayed Release (E.C.)(s)* Refills:*2*\\n5. Oxycodone-Acetaminophen 5-325 mg Tablet Sig: One (1) Tablet\\nPO every 4-6 hours as needed for pain.\\nDisp:*40 Tablet(s)* Refills:*0*\\n6. Atorvastatin 10 mg Tablet Sig: One (1) Tablet PO DAILY\\n(Daily).\\nDisp:*30 Tablet(s)* Refills:*2*\\n7. Amiodarone 200 mg Tablet Sig: One (1) Tablet PO DAILY\\n(Daily).\\nDisp:*30 Tablet(s)* Refills:*2*\\n8. Furosemide 20 mg Tablet Sig: One (1) Tablet PO BID (2 times a\\nday) for 7 days.\\nDisp:*14 Tablet(s)* Refills:*0*\\n9. Atenolol 25 mg Tablet Sig: One (1) Tablet PO once a day.\\nDisp:*30 Tablet(s)* Refills:*2*\\n10. Levothyroxine 25 mcg Tablet Sig: One (1) Tablet PO once a\\nday.\\nDisp:*30 Tablet(s)* Refills:*2*\\n11. Warfarin 5 mg Tablet Sig: One (1) Tablet PO once a day for 2\\ndays: 5mg on [**6-20**] & [**6-21**], then INR to be drawn on [**6-21**] and\\ncalled to coumadin clinic for continued dosing.\\nDisp:*30 Tablet(s)* Refills:*0*\\n\\nDischarge Disposition:\\nHome With Service\\n\\nFacility:\\n[**Location (un) 1110**] VNA\\n\\nDischarge Diagnosis:\\nMitral Regurgitation s/p Mitral Valve Replacement\\nAtrial Fibrillation h/o cardioversion s/p MAZE procedure and\\nLeft Atrial Appendage Resection\\nPMH: Hypertension, Chronic Obstructive Pulmonary Disease,\\nHodgkin\\'s disease s/p Chemo, Squamous Cell cncer right calf s/p\\nexcision, Hypothyroidism, s/p Hysterectomy, s/p c-section and\\nappendectomy, s/p lumbar disc surgery\\n\\nDischarge Condition:\\ngood\\n\\nDischarge Instructions:\\nmay shower, no bathing or swimming for 1 month\\nno lifting > 10# for 10 weeks\\nno driving for 1 month\\nno creams, lotions or powders to any incisions\\n\\n[**Last Name (NamePattern4) 2138**]p Instructions:\\nwith Dr. [**Last Name (STitle) **] in [**1-3**] weeks\\nwith Dr. [**Last Name (STitle) **] in [**1-3**] weeks\\nwith Dr. [**Last Name (Prefixes) **] in 4 weeks\\n\\n\\nCompleted by:[**2172-7-8**]'"
      ]
     },
     "execution_count": 108,
     "metadata": {},
     "output_type": "execute_result"
    }
   ],
   "source": [
    "# look at the first note\n",
    "df_notes.TEXT.iloc[0]"
   ]
  },
  {
   "cell_type": "code",
   "execution_count": 109,
   "id": "28c31a26",
   "metadata": {},
   "outputs": [],
   "source": [
    "\n",
    "# filter to discharge summary\n",
    "df_notes_dis_sum = df_notes.loc[df_notes.CATEGORY == 'Discharge summary']"
   ]
  },
  {
   "cell_type": "code",
   "execution_count": 110,
   "id": "2fbb5ed4",
   "metadata": {},
   "outputs": [],
   "source": [
    "df_notes_dis_sum_last = (df_notes_dis_sum.groupby(['SUBJECT_ID','HADM_ID']).nth(-1)).reset_index()\n",
    "assert df_notes_dis_sum_last.duplicated(['HADM_ID']).sum() == 0, 'Multiple discharge summaries per admission'"
   ]
  },
  {
   "cell_type": "code",
   "execution_count": 111,
   "id": "f8047c19",
   "metadata": {},
   "outputs": [],
   "source": [
    "\n",
    "df_adm_notes = pd.merge(df_adm[['SUBJECT_ID','HADM_ID','ADMITTIME','DISCHTIME','DAYS_NEXT_ADMIT','NEXT_ADMITTIME','ADMISSION_TYPE','DEATHTIME']],\n",
    "                        df_notes_dis_sum_last[['SUBJECT_ID','HADM_ID','TEXT']],\n",
    "                        on = ['SUBJECT_ID','HADM_ID'],\n",
    "                        how = 'left')\n",
    "assert len(df_adm) == len(df_adm_notes), 'Number of rows increased'"
   ]
  },
  {
   "cell_type": "code",
   "execution_count": 112,
   "id": "76ee1701",
   "metadata": {},
   "outputs": [
    {
     "name": "stdout",
     "output_type": "stream",
     "text": [
      "Fraction of missing notes: 0.1059753119913185\n",
      "Fraction notes with newlines: 0.8940246880086815\n",
      "Fraction notes with carriage returns: 0.0\n",
      "Fraction notes with carriage returns: 0.0\n"
     ]
    }
   ],
   "source": [
    "\n",
    "print('Fraction of missing notes:', df_adm_notes.TEXT.isnull().sum() / len(df_adm_notes))\n",
    "print('Fraction notes with newlines:', df_adm_notes.TEXT.str.contains('\\n').sum() / len(df_adm_notes))\n",
    "print('Fraction notes with carriage returns:', df_adm_notes.TEXT.str.contains('\\r').sum() / len(df_adm_notes))"
   ]
  },
  {
   "cell_type": "code",
   "execution_count": 113,
   "id": "4d2443b0",
   "metadata": {},
   "outputs": [
    {
     "name": "stderr",
     "output_type": "stream",
     "text": [
      "C:\\Users\\ajays\\AppData\\Local\\Temp\\ipykernel_415092\\3060859928.py:1: DeprecationWarning: DataFrameGroupBy.apply operated on the grouping columns. This behavior is deprecated, and in a future version of pandas the grouping columns will be excluded from the operation. Either pass `include_groups=False` to exclude the groupings or explicitly select the grouping columns after groupby to silence this warning.\n",
      "  df_adm_notes.groupby('ADMISSION_TYPE').apply(lambda g: g.TEXT.isnull().sum())/df_adm_notes.groupby('ADMISSION_TYPE').size()\n"
     ]
    },
    {
     "data": {
      "text/plain": [
       "ADMISSION_TYPE\n",
       "ELECTIVE     0.048663\n",
       "EMERGENCY    0.037983\n",
       "NEWBORN      0.536691\n",
       "URGENT       0.042665\n",
       "dtype: float64"
      ]
     },
     "execution_count": 113,
     "metadata": {},
     "output_type": "execute_result"
    }
   ],
   "source": [
    "df_adm_notes.groupby('ADMISSION_TYPE').apply(lambda g: g.TEXT.isnull().sum())/df_adm_notes.groupby('ADMISSION_TYPE').size()"
   ]
  },
  {
   "cell_type": "code",
   "execution_count": 114,
   "id": "bae27d13",
   "metadata": {},
   "outputs": [],
   "source": [
    "\n",
    "df_adm_notes_clean = df_adm_notes.loc[df_adm_notes.ADMISSION_TYPE != 'NEWBORN'].copy()"
   ]
  },
  {
   "cell_type": "code",
   "execution_count": 115,
   "id": "aa981974",
   "metadata": {},
   "outputs": [
    {
     "name": "stdout",
     "output_type": "stream",
     "text": [
      "Fraction of missing notes: 0.03971592354195606\n",
      "Fraction notes with newlines: 0.9602840764580439\n",
      "Fraction notes with carriage returns: 0.0\n"
     ]
    }
   ],
   "source": [
    "print('Fraction of missing notes:', df_adm_notes_clean.TEXT.isnull().sum() / len(df_adm_notes_clean))\n",
    "print('Fraction notes with newlines:', df_adm_notes_clean.TEXT.str.contains('\\n').sum() / len(df_adm_notes_clean))\n",
    "print('Fraction notes with carriage returns:', df_adm_notes_clean.TEXT.str.contains('\\r').sum() / len(df_adm_notes_clean))"
   ]
  },
  {
   "cell_type": "code",
   "execution_count": 116,
   "id": "90163d7a",
   "metadata": {},
   "outputs": [
    {
     "data": {
      "text/plain": [
       "SUBJECT_ID                                                         3\n",
       "HADM_ID                                                       145834\n",
       "ADMITTIME                                        2101-10-20 19:08:00\n",
       "DISCHTIME                                        2101-10-31 13:58:00\n",
       "DAYS_NEXT_ADMIT                                                  NaN\n",
       "NEXT_ADMITTIME                                                   NaT\n",
       "ADMISSION_TYPE                                             EMERGENCY\n",
       "DEATHTIME                                                        NaT\n",
       "TEXT               Admission Date:  [**2101-10-20**]     Discharg...\n",
       "OUTPUT_LABEL                                                       0\n",
       "Name: 1, dtype: object"
      ]
     },
     "execution_count": 116,
     "metadata": {},
     "output_type": "execute_result"
    }
   ],
   "source": [
    "df_adm_notes_clean['OUTPUT_LABEL'] = (df_adm_notes_clean.DAYS_NEXT_ADMIT < 30).astype('int')\n",
    "df_adm_notes_clean.iloc[0]"
   ]
  },
  {
   "cell_type": "code",
   "execution_count": 117,
   "id": "fa1e3a63",
   "metadata": {},
   "outputs": [
    {
     "name": "stdout",
     "output_type": "stream",
     "text": [
      "Number of positive samples: 3004\n",
      "Number of negative samples: 48109\n",
      "Total samples: 51113\n"
     ]
    }
   ],
   "source": [
    "\n",
    "print('Number of positive samples:', (df_adm_notes_clean.OUTPUT_LABEL == 1).sum())\n",
    "print('Number of negative samples:',  (df_adm_notes_clean.OUTPUT_LABEL == 0).sum())\n",
    "print('Total samples:', len(df_adm_notes_clean))"
   ]
  },
  {
   "cell_type": "code",
   "execution_count": 118,
   "id": "4d2350a9",
   "metadata": {},
   "outputs": [],
   "source": [
    "\n",
    "def preprocess_text(df):\n",
    "    # This function preprocesses the text by filling not a number and replacing new lines ('\\n') and carriage returns ('\\r')\n",
    "    df.TEXT = df.TEXT.fillna(' ')\n",
    "    df.TEXT =df.TEXT.str.replace('\\n',' ')\n",
    "    df.TEXT =df.TEXT.str.replace('\\r',' ')\n",
    "    return df"
   ]
  },
  {
   "cell_type": "code",
   "execution_count": 119,
   "id": "ff0593cf",
   "metadata": {},
   "outputs": [],
   "source": [
    "df_adm_notes_clean = preprocess_text(df_adm_notes_clean)"
   ]
  },
  {
   "cell_type": "code",
   "execution_count": 120,
   "id": "13b40586",
   "metadata": {},
   "outputs": [
    {
     "data": {
      "text/plain": [
       "\"Admission Date:  [**2101-10-20**]     Discharge Date:  [**2101-10-31**]  Date of Birth:   [**2025-4-11**]     Sex:  M  Service:  Medicine  CHIEF COMPLAINT:  Admitted from rehabilitation for hypotension (systolic blood pressure to the 70s) and decreased urine output.  HISTORY OF PRESENT ILLNESS:  The patient is a 76-year-old male who had been hospitalized at the [**Hospital1 190**] from [**10-11**] through [**10-19**] of [**2101**] after undergoing a left femoral-AT bypass graft and was subsequently discharged to a rehabilitation facility.  On [**2101-10-20**], he presented again to the [**Hospital1 346**] after being found to have a systolic blood pressure in the 70s and no urine output for 17 hours. A Foley catheter placed at the rehabilitation facility yielded 100 cc of murky/brown urine.  There may also have been purulent discharge at the penile meatus at this time.  On presentation to the Emergency Department, the patient was without subjective complaints.  In the Emergency Department, he was found to have systolic blood pressure of 85.  He was given 6 liters of intravenous fluids and transiently started on dopamine for a systolic blood pressure in the 80.s  PAST MEDICAL HISTORY:  1.  Coronary artery disease with diffuse 3-vessel disease; right-dominant, status post proximal left circumflex stent in [**2101-7-9**] with occlusion of the distal left circumflex; status post right coronary artery stent on [**2101-8-26**] (no percutaneous coronary intervention to 99% diagonal left circumflex, 80% small proximal left anterior descending artery, or 80% small distal left anterior descending artery).  2.  Congestive heart failure (with an ejection fraction of 15% to 20%).  3.  Type 2 diabetes with neuropathy.  4.  Hypertension.  5.  Diverticulosis (found on colonoscopy in [**2101-7-9**]).  6.  Alzheimer's dementia.  7.  History of gastrointestinal bleed (while the patient was taking eptifibatide).  8.  Cardiac risk factors (with a baseline creatinine of 1.4 to 1.6).  9.  Hypercholesterolemia. 10.  History of methicillin-resistant Staphylococcus aureus and Pseudomonas growth in wound cultures. 11.  Severe peripheral vascular disease; status post left femoral-AT bypass graft on [**2101-10-11**]. 12.  Chronic nonhealing foot ulcers. 13.  Recent right pedal cellulitis.  ALLERGIES:  The patient has no known drug allergies.  MEDICATIONS ON ADMISSION:  1.  Vancomycin 1 g intravenously q.24h. for a level of less than 15 (started on [**2101-10-4**]).  2.  Levofloxacin 250 mg p.o. q.d. (started on [**2101-10-4**]).  3.  Metronidazole 500 mg p.o. q.8h. (started on [**2101-10-4**]).  4.  Heparin 5000 units subcutaneous b.i.d.  5.  Simvastatin 40 mg p.o. q.d.  6.  Lisinopril 5 mg p.o. q.d.  7.  Furosemide 40 mg p.o. q.d.  8.  Vitamin E 400 IU p.o. q.d.  9.  Atenolol 25 mg p.o. q.d. 10.  Pantoprazole 40 mg p.o. q.d. 11.  Ascorbic acid 500 mg p.o. b.i.d. 12.  NPH 17 units b.i.d. 13.  Regular insulin sliding-scale. 14.  Bisacodyl 10 mg p.o./p.r. as needed. 15.  Docusate 100 mg p.o. b.i.d. 16.  Percocet 5/325 mg one tablet p.o. q.4-6h. as needed for pain. 17.  Aspirin 81 mg p.o. q.d. 18.  Metoprolol 75 mg p.o. b.i.d.  SOCIAL HISTORY:  The patient is retired and had been living at home with his wife prior to his admission to the hospital on [**2101-10-11**]; he had been living at [**Hospital3 1761**] for the day prior to admission.  He is a social drinker and has a 40-pack-year smoking history; although, he quit smoking 20 years ago.  PHYSICAL EXAMINATION ON PRESENTATION:   Initial physical examination revealed temperature was 96.1 degrees Fahrenheit, heart rate was 83, blood pressure was 124/42 (following administration of 3 liters of normal saline), respiratory was 24, and his oxygen saturation was 100% on 2 liters nasal cannula.  His heart had a regular rate and rhythm.  There were normal first and second heart sounds.  There was a 2/6 systolic ejection murmur, and there were no rubs or gallops. His lungs were clear to auscultation bilaterally.  His abdomen was soft, nontender, and nondistended, and there were hypoactive bowel sounds.  He had a palpable bypass graft pulse, [**Hospital3 17394**] dorsalis pedis and posterior tibialis pulses bilaterally; and his surgical incision was clean, dry, and intact.  Please note that the above examination was done by the Vascular Surgery team, which was the team that was initially planning to admit the patient to the hospital.  PERTINENT LABORATORY DATA ON PRESENTATION:  On initial laboratory evaluation the patient had a white blood cell count of 12.7, hematocrit was 30.2, and platelets were 282,000.  His PT was 13.5, PTT was 30.7, and INR was 1.3.  His serum chemistries revealed sodium was 136, potassium was 5.4, chloride was 99, bicarbonate was 25, blood urea nitrogen was 53, creatinine was 3.2, and blood glucose was 91.  His calcium was 8.2, magnesium was 2.4, and phosphate was 4.8.  Blood cultures drawn on admission were pending, but ultimately negative.  A urine culture taken on admission was initially pending, but ultimately grew out yeast.  A sputum culture taken on admission was also initially pending, but ultimately also grew out yeast.  RADIOLOGY/IMAGING:  His admission chest x-ray demonstrated stable prominence of the right main pulmonary artery; no focal areas of consolidation; overall stable appearance of the chest compared with a [**2101-10-15**] study.  No radiographic evidence of congestive heart failure or pneumonia.  His admission electrocardiogram demonstrated a sinus rhythm, nonspecific inferior/lateral T wave changes, low QRS voltages in the limb leads, and T wave changes in V5 and V6 when compared with an electrocardiogram dated [**2101-10-12**].  An initial abdominal CT was a limited noncontrast examination that demonstrated diffuse vascular calcifications.  No evidence of an abdominal aortic aneurysm or free fluid, incompletely imaged coronary artery calcification, a simple left renal cyst, sigmoid diverticulosis, and an enlarged and partially calcified prostate gland.  HOSPITAL COURSE BY SYSTEM:  1.  CARDIOVASCULAR:  The patient was initially admitted to the Vascular Intensive Care Unit with hypotension, decreased urine output, and acute renal failure; most likely secondary to a presumed gram-negative urosepsis (although there were never any positive culture data to confirm this diagnosis).  While boarding in the Medical Intensive Care Unit on the night of admission, the patient had a sudden cardiorespiratory arrest.  He was resuscitated with epinephrine, lidocaine, and direct current cardioversion times four.  He was also intubate for airway protection.  Following these measures, the patient returned to a sinus rhythm with a systolic blood pressure of approximately 100; the total time elapsed from the beginning of the arrest to the return of a pulse was approximately 16 minutes.  He subsequently required double pressors to maintain his blood pressure.  An echocardiogram performed at the bedside demonstrated a trivial pericardial effusion and a left ventricular ejection fraction of 20% to 25% in the setting of tachycardia and a hyperdynamic right ventricle; suggesting elevated right-sided filling pressures.  Although the definitive etiology of this arrest remained unknown, the most likely trigger was a non-Q-wave myocardial infarction, as his troponin values were elevated to greater than 50 following his arrest.  A repeat echocardiogram done on [**2101-10-21**] demonstrated mild left atrial dilation, an ejection fraction of 15% to 20%, resting regional wall motion abnormalities including inferior, mid, and apical left ventricular akinesis, depressed right ventricular systolic function, and moderate mitral regurgitation.  Compared with the prior study of [**2101-10-20**]; the left ventricular function was unchanged.  There was moderate mitral regurgitation, and the right ventricular function appeared worse.  On [**2101-10-21**], the patient was loaded with amiodarone and was subsequently started on oral amiodarone.  The following day, he was started on heparin intravenously given his elevated serum troponin to greater than 50; this medication was continued for 72 hours.  Given his elevated troponins and non-Q-wave myocardial infarction, the patient was a candidate for cardiac catheterization.  After discussions between the Medical Intensive Care Unit team and the patient's family, however, the decision was made to not pursue further invasive procedures given that the patient had been made do not resuscitate/do not intubate following the resuscitation mentioned above, and his family no longer wished for aggressive resuscitating measures.  By [**2101-10-23**], he was off pressors and he was restarted on a beta blocker and ACE inhibitor at low doses.  On the evening of [**2101-10-25**], the patient complained of substernal chest pain that was relieved by NPG SL and morphine.  He also had ST segment depressions in V2 and V3 that reverted to baseline after the resolution of his pain. Therefore, the patient was again started on heparin; although, this was discontinued on [**2101-10-26**] when the patient ruled out for a myocardial infarction by cardiac enzymes.  He again had substernal chest pain on [**2101-10-27**]; although, he had no electrocardiogram changes, and he again ruled out for a myocardial infarction by cardiac enzymes.  By hospital day four, the patient began to develop evidence of congestive heart failure given his aggressive fluid resuscitation, and gentle diuresis with furosemide was begun. By the time of his transfer to the General Medicine Service on [**2101-10-26**], the patient was still significantly volume overloaded following his aggressive fluid resuscitation in the Medical Intensive Care Unit.  Therefore, he was continued on the program of gentle diuresis given that he was having signs and symptoms of right-sided congestive heart failure.  He achieved adequate diuresis by the time of his discharge to rehabilitation, as his oxygen saturation was greater than 95% on 2 liters nasal cannula.  2.  INFECTIOUS DISEASE/SEPSIS:  The patient was started on gentamicin and piperacillin/tazobactam in addition to the levofloxacin, metronidazole, and vancomycin he was already taking for right lower extremity cellulitis prior to admission for empiric coverage of a presumed gram-negative urosepsis, and he was aggressively hydrated with intravenous fluids.  On [**2101-10-21**], his levofloxacin and metronidazole was discontinued, and he was started on fluconazole given the growth of yeast on urine culture.  He was taken off of gentamicin on hospital day three, and his fluconazole was discontinued on hospital day five (as per the Infectious Disease Service).  He was taken off of vancomycin on [**2101-10-28**], and his piperacillin/tazobactam was discontinued on [**2101-10-29**].  Despite the presumption of a gram-negative urosepsis precipitating this admission, the patient did not have any positive blood or urine cultures aside from the growth of yeast in two urine cultures noted above.  He remained afebrile both before and after discontinuation of his antibiotics, and he was found to be Clostridium difficile negative on [**2101-10-28**].  3.  PULMONARY:  As noted above, the patient was intubated and he was extubated on [**2101-10-24**].  He subsequently developed wheezing and mild hypoxia; most likely secondary to cardiac asthma and fluid overload in the setting of his aggressive fluid resuscitation.  He was gently diuresed toward the end of his hospitalization, and by the time of his he was maintaining an oxygen saturation of greater than 95% on 2 liters nasal cannula, intermittent ipratropium nebulizers, and chest physical therapy for clearance of his respiratory secretions.  4.  RENAL:  The patient presented with acute renal failure and prerenal azotemia that rapidly resolved following fluid resuscitation.  By the time of discharge, his serum creatinine was stable and at his preadmission baseline.  5.  NUTRITION:  The patient was found to be profoundly malnourished with a serum albumin of 1.8 on admission.  Once he was extubated and taking orals, he performed poorly on a modified barium swallowing study and was started on a thin liquid, ground-solid diet with whole medication tablets, small bites and sips, upright posture with meals, and aspiration precautions.  He was also given ProMod shakes with and between meals for nutritional supplementation of his heart-healthy/diabetic diet.  6.  VASCULAR:  The patient's operative incisions and foot ulcers continued to heal throughout this admission.  He was started on an multivitamin, vitamin C, and zinc for improved wound healing.  7.  HEMATOLOGY:  The patient was transfused one unit of packed red blood cells on [**2101-10-27**] to maintain a hematocrit of greater than 30 given his history of severe coronary artery disease.  His hematocrit subsequently remained stable.  CONDITION AT DISCHARGE:  Condition on discharge was stable.  DISCHARGE STATUS:  [**First Name4 (NamePattern1) 1188**] [**Last Name (NamePattern1) **] rehabilitation facility.  DISCHARGE DIAGNOSES:  1.  Cardiorespiratory arrest.  2.  Non-Q-wave myocardial infarction.  3.  Acute renal failure.  4.  Coronary artery disease with diffuse 3-vessel disease; right-dominant, status post proximal left circumflex stent in [**2101-7-9**] with occlusion of distal left circumflex; status post right coronary artery stent on [**2101-10-27**] (no percutaneous coronary intervention to 99%, distal left circumflex, 80% small proximal left anterior descending artery, 80% small distal left anterior descending artery).  5.  Congestive heart failure (with an ejection fraction of 15% to 20%).  6.  Type 2 diabetes with neuropathy.  7.  Hypertension.  8.  Diverticulosis (found on colonoscopy in [**2101-7-9**]).  9.  Alzheimer's dementia. 10.  History of gastrointestinal bleed (while the patient was taking eptifibatide). 11.  Cardiac risk factors (with a baseline creatinine of 1.4 to 1.6). 12.  History of methicillin-resistant Staphylococcus aureus and Pseudomonas growth in wound cultures. 13.  Severe peripheral vascular disease; status post left femoral-AT bypass graft on [**2101-10-11**]. 14.  Chronic nonhealing foot ulcers.  MEDICATIONS ON DISCHARGE:  1.  Amiodarone 400 mg p.o. b.i.d. (through [**2101-11-2**]), then 400 mg p.o. q.d. (times one week), then 200 mg p.o. q.d.  2.  Metoprolol 50 mg p.o. b.i.d.  3.  Captopril 6.25 mg p.o. t.i.d.  4.  Aspirin 325 mg p.o. q.d.  5.  Pantoprazole 40 mg p.o. q.d.  6.  Heparin 5000 units subcutaneously b.i.d.  7.  Multivitamin one tablet p.o. q.d.  8.  Zinc sulfate 220 mg p.o. q.d.  9.  Vitamin C 500 mg p.o. q.d. 10.  Ipratropium nebulizers q.4-6h. as needed (for wheezing). 11.  Acetaminophen 325 mg to 650 mg p.o. q.4-6h. as needed (for pain). 12.  Miconazole 2% powder to groin b.i.d. 13.  Santyl lotion to heels b.i.d. 14.  Regular insulin sliding-scale.  CODE STATUS:  Do not resuscitate/do not intubate.  NOTE:  If applicable, an addendum to this Discharge Summary will be dictated to include follow-up appointments as well as any changes to the medication list noted above.                                 [**First Name11 (Name Pattern1) **] [**Last Name (NamePattern4) 1604**], M.D.  [**MD Number(1) 1605**]  Dictated By:[**Name8 (MD) 2507**]  MEDQUIST36  D:  [**2101-10-31**]  01:07 T:  [**2101-11-5**]  03:44 JOB#:  [**Job Number **] \""
      ]
     },
     "execution_count": 120,
     "metadata": {},
     "output_type": "execute_result"
    }
   ],
   "source": [
    "df_adm_notes_clean.iloc[0].TEXT"
   ]
  },
  {
   "cell_type": "code",
   "execution_count": 121,
   "id": "be6d66ea",
   "metadata": {},
   "outputs": [],
   "source": [
    "pos_df = df_adm_notes_clean[df_adm_notes_clean.OUTPUT_LABEL == 1]\n",
    "neg_df = df_adm_notes_clean[df_adm_notes_clean.OUTPUT_LABEL == 0]\n",
    "neg_df = df_adm_notes_clean[df_adm_notes_clean.ADMISSION_TYPE == 'ELECTIVE']"
   ]
  },
  {
   "cell_type": "code",
   "execution_count": 122,
   "id": "b03001eb",
   "metadata": {},
   "outputs": [
    {
     "data": {
      "text/plain": [
       "array(['ELECTIVE'], dtype=object)"
      ]
     },
     "execution_count": 122,
     "metadata": {},
     "output_type": "execute_result"
    }
   ],
   "source": [
    "neg_df['ADMISSION_TYPE'].unique()"
   ]
  },
  {
   "cell_type": "code",
   "execution_count": 123,
   "id": "a4a4bebc",
   "metadata": {},
   "outputs": [
    {
     "data": {
      "text/plain": [
       "SUBJECT_ID                                                        23\n",
       "HADM_ID                                                       152223\n",
       "ADMITTIME                                        2153-09-03 07:15:00\n",
       "DISCHTIME                                        2153-09-08 19:10:00\n",
       "DAYS_NEXT_ADMIT                                          1501.016667\n",
       "NEXT_ADMITTIME                                   2157-10-18 19:34:00\n",
       "ADMISSION_TYPE                                              ELECTIVE\n",
       "DEATHTIME                                                        NaT\n",
       "TEXT               Admission Date:  [**2153-9-3**]              D...\n",
       "OUTPUT_LABEL                                                       0\n",
       "Name: 21, dtype: object"
      ]
     },
     "execution_count": 123,
     "metadata": {},
     "output_type": "execute_result"
    }
   ],
   "source": [
    "neg_df.iloc[4]"
   ]
  },
  {
   "cell_type": "code",
   "execution_count": 124,
   "id": "187d3b39",
   "metadata": {},
   "outputs": [
    {
     "data": {
      "text/plain": [
       "'Admission Date:  [**2131-4-30**]              Discharge Date:   [**2131-5-8**]  Date of Birth:  [**2061-8-17**]             Sex:   M  Service: CARDIOTHORACIC  Allergies: Patient recorded as having No Known Allergies to Drugs  Attending:[**First Name3 (LF) 922**] Chief Complaint: positive stress test ; chest pain during hypertension to 220/110   Major Surgical or Invasive Procedure: Cardiac Catheterization [**2131-4-30**] CABGx5 (LIMA-LAD,SVG-Diag,SVG-OM1,SVG-OM2,SVG-PDA)[**5-4**]   History of Present Illness: Mr. [**Known lastname 27218**] is a 69 yo M w/ h/o HTN and significant tobacco use, who had a severe headache on [**2131-4-19**] without associated symptoms (including weakness, visual changes), and was found to be hypertensive to 220/110.  He was transferred via ambulence to [**Hospital 1474**] Hospital and in route complained of right sided chest discomfort, associated with dyspnea and diaphoreiss. By report he was administered SL NTG and nitro paste with improvement in BP and chest discomfort.  He subsequently underwen ETT with pMIBI which demonstrated a perfusion deficit at rest and was referred to [**Hospital1 18**] for cardiac catheterization and renal artery angiogram. . Mr. [**Known lastname 27218**] also reports decreased exercise tolerance over the past several months - previously he would be able to climb several flights of stairs without difficulty; he currently gets extremely dypsneic after 10 steps (<1 flight); no associated CP, N, or diahphoresis.  He denies orthopnea and PND. . He denies history of angina or CAD. . Mr. [**Known lastname 27218**] [**Last Name (Titles) 1834**] cardiac catheterization today and was found to have 3VD, and a CABG is now planned.  He took a dose of plavix this morning. . ROS: denies recent illness, fevers, hematuria, melena, bloody stools, abdominal pain, LE swelling.  Reports 8lb intentional weight loss (healthier diet) Referred for CABG .  Past Medical History: HTN GERD Bladder ca s/p excision x 2 and the BCG treatment Syncopal episodes x 3 (episodes accompanied by diaphoresis and nausea) with the last episode many years ago H/O pneumonia x 3 Depression Chronic back problems including disc herniation, s/p disc surgery Anxiety COPD BPH  Social History: Married, lives with his wife, 5 children.  He is a retired truck driver and currently helps out in his son??????s restaurant. +tobacco 1ppd x 55 years.  Occasional EtOH. No illicits  Family History: Noncontributory (h/o cancer)  Physical Exam: 138/61  51  16  100% RA  5\\'[**35**]\" Wt:220 lbs Gen: NAD, smiling HEENT: aniecteric, PERRL, EOMI, MMM, no JVD, no bruits CV: regular rhythm, ~60, no M/R/G Chest: CTAB Abd: Soft, NT/ND R Groin: dressing C/D/I, no bruit or thrill Ext: 2+ DP pulses bilaterally Neuro: A&Ox3, fluent speech, normal ambulation, MAE  Pertinent Results: [**2131-4-30**] 10:33AM BLOOD WBC-6.3 RBC-4.50* Hgb-12.6* Hct-35.9* MCV-80* MCH-27.9 MCHC-35.0 RDW-15.2 Plt Ct-193 [**2131-4-30**] 10:33AM BLOOD Glucose-98 UreaN-21* Creat-1.0 Na-137 K-4.1 Cl-107 HCO3-24 AnGap-10 [**2131-4-30**] 10:33AM BLOOD ALT-8 AST-12 AlkPhos-63 TotBili-0.5 [**2131-4-30**] 10:33AM BLOOD %HbA1c-5.1 . Recent testing: [**2131-4-24**]: Echo showed a normal LV size and function.  EF of 60-65%.  The valves were all normal with trace TR.  Pulmonary systolic pressure was estimated to be 30-35%. [**2131-4-20**]: Nuclear stress test where the patient exercised for 6 minutes 57 seconds on [**Initials (NamePattern4) **] [**Last Name (NamePattern4) **] protocol stopping due to shortness of breath and leg pain.  He achieved 68% of his predicted target heart rate.  He did not develop any arrhythmias or chest pain.  The nuclear images demonstrated a normal sized left ventricle. There was a moderate sized reversible perfusion abnormality involving the anteroapical and septal portion left ventricle. There was also a question of a small reversible abnormality involving the inferolateral portion left ventricle.  The left ventricular wall motion was normal.  The LVEF was 62%. . [**2131-4-30**] Cardiac Catheterization COMMENTS: 1.  Coronary angiography of this right dominant system revealed severe three vessel coronary artery disease.  The left main coronary artery had no angiographically apparent flow limiting stenoses.  The LAD was ectatic proximally and occluded in the mid segment after a small diagonal.  The LCX had a 90% stenosis of the OM1 proximally and a 50% followed by a 70% stenosis in the proximal and mid segment of the OM2. The RCA had a 90% stenosis in the mid PDA. 2.  Limited resting hemodynamics revealed mildly to moderately elevated left sided filling pressures (LVEDP was 18 mm Hg). Systemic arterial pressure was normal (aortic pressure was 121/73 mm Hg).  There was no significant gradient across the aortic valve upon pullback of the catheter from the left ventricle to the ascending aorta. 3.  Left ventriculography revealed a contrast calculated ejection fraction of 65%.  No mitral regurgitation was noted. 4. Bilateral selective renal angiography demonstrated widely patent renal arteries. FINAL DIAGNOSIS: 1. Three vessel coronary artery disease. 2. Normal left ventricular systolic function. 3. Mildly to moderately elevated left sided filling pressures. 4. No angiographically apparent renal artery stenosis. . Pulmonary Function Tests: [**2131-5-8**] 06:25AM BLOOD WBC-7.3 RBC-3.17* Hgb-9.1* Hct-26.3* MCV-83 MCH-28.7 MCHC-34.6 RDW-15.5 Plt Ct-201# [**2131-5-8**] 06:25AM BLOOD Plt Ct-201# [**2131-5-8**] 06:25AM BLOOD Glucose-101 UreaN-14 Creat-1.3* K-5.1  Cardiology Report ECHO Study Date of [**2131-5-4**]    PATIENT/TEST INFORMATION: Indication: Chest pain. Coronary artery disease. Hypertension. Status: Inpatient Date/Time: [**2131-5-4**] at 10:41 Test: TEE (Complete) Doppler: Full Doppler and color Doppler Contrast: None Tape Number: 2007AW2-: Test Location: Anesthesia West OR cardiac Technical Quality: Adequate     REFERRING DOCTOR: DR. [**First Name8 (NamePattern2) 177**] [**Last Name (NamePattern1) **]  MEASUREMENTS: Left Ventricle - Septal Wall Thickness: *1.5 cm (nl 0.6 - 1.1 cm) Left Ventricle - Ejection Fraction: 45% to 50% (nl >=55%) Aorta - Ascending: *3.7 cm (nl <= 3.4 cm) Aortic Valve - Peak Velocity: 1.4 m/sec (nl <= 2.0 m/sec)  INTERPRETATION:  Findings:  LEFT ATRIUM: Normal LA size. No spontaneous echo contrast in the body of the LA. No spontaneous echo contrast or thrombus in the body of the [**Name Prefix (Prefixes) **] [**Last Name (Prefixes) **] LAA.  RIGHT ATRIUM/INTERATRIAL SEPTUM: Normal RA size. A catheter or pacing wire is seen in the RA and extending into the RV. No ASD by 2D or color Doppler.  LEFT VENTRICLE: Mild symmetric LVH with normal cavity size. Mild symmetric LVH. Normal LV cavity size. Mild regional LV systolic dysfunction. No LV mass/thrombus. Mildly depressed LVEF. Transmitral Doppler and TVI c/w normal LV diastolic function. No resting LVOT gradient.  LV WALL MOTION: Regional LV wall motion abnormalities include: anterior apex - hypo;  RIGHT VENTRICLE: Normal RV chamber size and free wall motion.  AORTA: Normal aortic diameter at the sinus level. Mildly dilated ascending aorta. Normal aortic arch diameter. Simple atheroma in aortic arch. Normal descending aorta diameter. Simple atheroma in descending aorta.   AORTIC VALVE: Three aortic valve leaflets. Mildly thickened aortic valve leaflets. No AS. Trace AR.  MITRAL VALVE: Normal mitral valve leaflets with trivial MR. Mild mitral annular calcification. No MS. Physiologic MR (within normal limits).  TRICUSPID VALVE: Normal tricuspid valve leaflets with trivial TR.  PULMONIC VALVE/PULMONARY ARTERY: Normal pulmonic valve leaflets with physiologic PR.  PERICARDIUM: Trivial/physiologic pericardial effusion.  GENERAL COMMENTS: A TEE was performed in the location listed above. I certify I was present in compliance with HCFA regulations. No TEE related complications. The patient received antibiotic prophylaxis. The TEE probe was passed with assistance from the anesthesioology staff using a laryngoscope. The patient was under general anesthesia throughout the procedure.  Conclusions: PRE-CPB: 1.The left atrium is normal in size. No spontaneous echo contrast is seen in the body of the left atrium. No spontaneous echo contrast or thrombus is seen in the body of the left atrium or left atrial appendage. No atrial septal defect is seen by 2D or color Doppler. 2. There is mild symmetric left ventricular hypertrophy with normal cavity size. There is mild symmetric left ventricular hypertrophy. The left ventricular cavity size is normal. There is mild regional left ventricular systolic dysfunction with apical anterior hypokinesis.. No masses or thrombi are seen in the left ventricle. Overall left ventricular systolic function is mildly depressed. Transmitral Doppler and tissue velocity imaging are consistent with normal LV diastolic function. 3. Right ventricular chamber size and free wall motion are normal. 4. The ascending aorta is mildly dilated at a maximum of 3.7. There are simple atheroma in the aortic arch. There are simple atheroma in the descending thoracic aorta. 5. There are three aortic valve leaflets. The aortic valve leaflets are mildly thickened. There is no aortic valve stenosis. Trace aortic regurgitation is seen. 6. The mitral valve appears structurally normal with trivial mitral regurgitation. Physiologic mitral regurgitation is seen (within normal limits). 7. There is a trivial/physiologic pericardial effusion. POST-CPB: Patient is on phenylephrine infusion. Preserved biventricular systolic function with improvement of the anteroapical hypokinetic segment. LVEF now 55%. Trace MR. Aortic contour is normal post decannulation.  Electronically signed by [**First Name8 (NamePattern2) **] [**Last Name (NamePattern1) 5209**], MD on [**2131-5-4**] 15:02.  [**Location (un) **] PHYSICIAN:    ([**Numeric Identifier 27219**])    RADIOLOGY  Final Report  CHEST (PA & LAT)  [**2131-5-7**] 11:20 AM  CHEST (PA & LAT)  Reason: r/o ptx  [**Hospital 93**] MEDICAL CONDITION: 69 yoM s/p CABG and CT removal REASON FOR THIS EXAMINATION: r/o ptx TWO VIEW CHEST OF [**2131-5-7**].  COMPARISON: [**2131-5-4**]  INDICATION: Chest tube removal.  Various lines and tubes have been removed since the prior radiograph, and a very small left apical pneumothorax has developed. Cardiac and mediastinal contours are within normal limits for postoperative status of the patient. Small pleural effusions and minor bibasilar atelectasis are noted. These findings are superimposed upon subtle likely more chronic peripheral and basilar interstitial lung disease.  On the lateral view, small air-fluid level is present in the retrosternal region likely representing an anterior hydropneumothorax, and additional air is present in the retrosternal region, an expected postoperative finding given the time interval since surgery.  IMPRESSION: Small left pneumothorax following tube removal. Bibasilar atelectasis and small pleural effusions.  DR. [**First Name11 (Name Pattern1) **] [**Initial (NamePattern1) **] [**Last Name (NamePattern4) 5785**] Approved: MON [**2131-5-7**] 1:12 PM      Brief Hospital Course: A/P: this is a 69 yo M w/ h/o HTN and significant tobacco use, who presents for cardiac catheterization after abnormal perfusion scan, which revealed 3VD, prompting CABG. . #CAD: -medication regiment modified: continue ASA, BB, imdur; minoxidil discontinued and ACEI started. . #HTN: well controlled on BB, imdur, and ACEI . #BPH: continue proscar . #Bladder spasm s/p surgery and BCG tx: continue detrol . #GERD: continue ranitidine . #Depression/Anxiety: continue celexa . #h/o syncope: by report worked up extensively at [**Hospital1 1474**] w/o diagnosis -carotid U/S normal -no events on telemetry . #COPD: per patient, recent diagnosis based on CXR at [**Hospital1 1474**] during last hospitalization, not on any active medications -no wheeze, no respiratory distress, good O2 sat -PFTs performed and carotid U/S showed no significant stenoses.   [**Hospital1 **] cabg x5 with Dr. [**Last Name (STitle) 914**] on [**5-4**]. Transferred to the CSRU in stable condition on titrated phenylephrine and propofol drips.Extubated that evening and transferred to the floor on POD #1 to begin increasing his activity level. Chest tubes and pacing wires removed on POD #3.Nicotine patch continued. Made good progress and cleared for discharge to home with VNA on POD #4. Pt. is to make all follow-up appts. as per discharge instructions.  Medications on Admission: Lasix  20 mg daily Minoxidil 25 mg daily Detrol 4 mg daily Ranitidine 300 mg [**Hospital1 **] Atenolol 25 mg [**Hospital1 **] Pro-Chlor 20 mEq daily Plavix 75 mg daily (pt started 2 weeks ago but stopped 4 days ago and will restart 4/20/070) Celexa 40 mg daily Endocet 5/325 mg prn ASA 81 mg daily Proscar 5 mg daily Imdur 30 mg daily NTG 0.4 mg sl  Discharge Medications: 1. Furosemide 20 mg Tablet Sig: One (1) Tablet PO Q12H (every 12 hours): 20mg [**Hospital1 **] x7days then 20mg QD x10 days. Disp:*24 Tablet(s)* Refills:*0* 2. Potassium Chloride 10 mEq Capsule, Sustained Release Sig: Two (2) Capsule, Sustained Release PO Q12H (every 12 hours): 20 meq [**Hospital1 **] x 7 days then 20meq QD x 10 days. Disp:*48 Capsule, Sustained Release(s)* Refills:*0* 3. Docusate Sodium 100 mg Capsule Sig: One (1) Capsule PO BID (2 times a day). Disp:*60 Capsule(s)* Refills:*2* 4. Ranitidine HCl 150 mg Tablet Sig: One (1) Tablet PO BID (2 times a day). Disp:*60 Tablet(s)* Refills:*2* 5. Aspirin 81 mg Tablet, Delayed Release (E.C.) Sig: One (1) Tablet, Delayed Release (E.C.) PO DAILY (Daily). Disp:*30 Tablet, Delayed Release (E.C.)(s)* Refills:*2* 6. Oxycodone-Acetaminophen 5-325 mg Tablet Sig: 1-2 Tablets PO every 4-6 hours as needed for pain. Disp:*50 Tablet(s)* Refills:*0* 7. Atorvastatin 20 mg Tablet Sig: One (1) Tablet PO once a day. Disp:*30 Tablet(s)* Refills:*2* 8. Nicotine 14 mg/24 hr Patch 24 hr Sig: One (1) Patch 24 hr Transdermal DAILY (Daily) for 2 weeks. Disp:*14 Patch 24 hr(s)* Refills:*0* 9. Clopidogrel 75 mg Tablet Sig: One (1) Tablet PO DAILY (Daily). Disp:*30 Tablet(s)* Refills:*2* 10. Metoprolol Tartrate 25 mg Tablet Sig: One (1) Tablet PO BID (2 times a day). Disp:*60 Tablet(s)* Refills:*2* 11. Finasteride 5 mg Tablet Sig: One (1) Tablet PO DAILY (Daily). Disp:*30 Tablet(s)* Refills:*2* 12. Citalopram 40 mg Tablet Sig: One (1) Tablet PO once a day. Disp:*30 Tablet(s)* Refills:*2* 13. Detrol 2 mg Tablet Sig: Two (2) Tablet PO once a day. 14. Lisinopril 5 mg Tablet Sig: One (1) Tablet PO once a day. Disp:*30 Tablet(s)* Refills:*2*   Discharge Disposition: Home With Service  Facility: [**Hospital1 1474**] VNA  Discharge Diagnosis: Coronary Artery Disease, s/p CABGx5 PMH:Hypertension,Hyperlipidemia,GERD,Bladder CA,Depression,COPD,BPH   Discharge Condition: good   Discharge Instructions: keep wounds clean and dry. OK to shower, no bathing or swimming.  Take all medications as prescribed. Call for any fever, redness or drainage from wounds no driving for one month no lifting greater than 10 pounds for 10 weeks  Followup Instructions: wound clinic in 2 weeks ( [**Hospital Ward Name 121**] 2) Dr [**Name (NI) 23019**] in [**2-10**] weeks Dr [**Last Name (STitle) 914**] in 4 weeks [**Telephone/Fax (1) 170**]    Completed by:[**2131-5-8**]'"
      ]
     },
     "execution_count": 124,
     "metadata": {},
     "output_type": "execute_result"
    }
   ],
   "source": [
    "data_string = pos_df.iloc[0].TEXT\n",
    "data_string"
   ]
  },
  {
   "cell_type": "code",
   "execution_count": 125,
   "id": "8844589b",
   "metadata": {},
   "outputs": [
    {
     "data": {
      "text/plain": [
       "\"Admission Date:  [**2134-12-27**]              Discharge Date:   [**2134-12-31**]  Date of Birth:  [**2087-7-14**]             Sex:   F  Service: CARDIOTHORACIC  Allergies: Bactrim / Ampicillin / Remeron  Attending:[**First Name3 (LF) 1283**] Chief Complaint: History of stroke  Major Surgical or Invasive Procedure: [**2134-12-27**] Minimally invasive closure of patent foramen ovale   History of Present Illness: Mrs. [**Known lastname 11679**] is a 47 year old female who suffered a cerebellar stroke in [**2134-3-9**]. Workup at that time revealed a patent foramen ovale. She is currently followed by Dr. [**Last Name (STitle) 1693**](neurologist) from the [**Hospital1 18**]. Full hypercoagulability workup was unremarkable. Since [**Month (only) 956**], she has had no other neurological events. In preperation for surgical intervention, she underwent cardiac catheterization in [**Month (only) **] which showed normal coronary arteries and normal left ventricular function.  Past Medical History: Patent foramen ovale; History of Stroke/TIA; Depression; Anxiety; Borderline Hyperlipidemia; Herniation of Cervical Discs; Patella-Femoral Syndrome; s/p Bunionectomies  Social History: Denies tobacco. Admits to occasional ETOH. She is an employee of the [**Hospital1 18**] in the Neuro-Pysch Department. She is married with two children. She denies IVDA and recreational drugs.  Family History: Father underwent CABG at age 72. Cousin died of an MI at age 46.  Physical Exam: Vitals: BP 114/68, HR 90, RR 14 General: well developed female in no acute distress HEENT: oropharynx benign, Neck: supple, no JVD, no carotid bruits Heart: regular rate, normal s1s2, no murmur or rub Lungs: clear bilaterally Abdomen: soft, nontender, normoactive bowel sounds Ext: warm, no edema, no varicosities Pulses: 2+ distally Neuro: nonfocal   Pertinent Results: [**2134-12-31**] 06:15AM BLOOD WBC-6.6# RBC-2.98* Hgb-9.1* Hct-26.1* MCV-88 MCH-30.6 MCHC-35.0 RDW-13.1 Plt Ct-192 [**2134-12-27**] 06:19PM BLOOD WBC-10.5 RBC-3.42*# Hgb-10.5*# Hct-30.0* MCV-88 MCH-30.8 MCHC-35.2* RDW-12.6 Plt Ct-138* [**2134-12-31**] 06:15AM BLOOD Glucose-121* UreaN-12 Creat-0.7 Na-140 K-5.1 Cl-106 HCO3-28 AnGap-11 [**2134-12-27**] 07:21PM BLOOD UreaN-11 Creat-0.8 Cl-112* HCO3-23 [**2134-12-31**] 06:15AM BLOOD Calcium-8.1* Phos-3.2 Mg-2.0  Brief Hospital Course: Mrs. [**Known lastname 11679**] was admitted and underwent surgical closure of her patent foramen ovale. The operation was performed minimally invasive and there were no complications. Following the procedure, she was brought to the CSRU. She initially remained hypotensive, requiring volume and Neosynephrine. Within 24 hours, she awoke neurologically intact and was extubated without difficulty. By postoperative day two, she successfully weaned from inotropic support. She maintained stable hemodynamics and transferred to the floor. On telemetry, she remained mostly in a normal sinus rhythm with brief periods of accelerated junctional rhythm. She otherwise continued to make clinical improvements and was cleared for discharge on postoperative day four. She remained just on Aspirin therapy. Aggrenox was not resumed as her PFO was surgically repaired. At discharge, her systolic blood pressures were in the 100's with heart rate of 80-90. Her room air saturations were 93% and she was ambulating without difficulty. She had good pain control with Dilaudid and all wounds were clean, dry and intact.  Medications on Admission: Bupropion 150 [**Hospital1 **], Aggrenox qd, Centrum, Calcium, Erythromycin eye gtts  Discharge Medications: 1. Bupropion 150 mg Tablet Sustained Release Sig: One (1) Tablet Sustained Release PO BID (2 times a day). Disp:*60 Tablet Sustained Release(s)* Refills:*2* 2. Docusate Sodium 100 mg Capsule Sig: One (1) Capsule PO BID (2 times a day). Disp:*60 Capsule(s)* Refills:*2* 3. Aspirin 81 mg Tablet, Delayed Release (E.C.) Sig: One (1) Tablet, Delayed Release (E.C.) PO DAILY (Daily). Disp:*30 Tablet, Delayed Release (E.C.)(s)* Refills:*2* 4. Hydromorphone 2 mg Tablet Sig: 1-2 Tablets PO every 6-8 hours as needed. Disp:*50 Tablet(s)* Refills:*0*   Discharge Disposition: Home With Service  Facility: [**Hospital 119**] Homecare  Discharge Diagnosis: Patent foramen ovale - s/p surgical closure; History of Stroke/TIA; Depression; Anxiety; Borderline Hyperlipidemia; Herniation of Cervical Discs; Patella-Femoral Syndrome; s/p Bunionectomies   Discharge Condition: Good   Discharge Instructions: Patient may shower, no baths. No creams, lotions or ointments to incisions. No driving for at least one month. No lifting more than 10 lbs for at least 10 weeks from the date of surgery. Monitor wounds for signs of infection. Please call with any concerns or questions.   Followup Instructions: Cardiac surgeon, Dr. [**Last Name (STitle) 1290**] in [**5-11**] weeks - call for appt, [**Telephone/Fax (1) 170**]. Local PCP, [**Last Name (NamePattern4) **]. [**Last Name (STitle) **] in [**3-11**] weeks - call for appt. Local cardiologist, Dr. [**Last Name (STitle) 11255**] in [**3-11**] weeks - call for appt    Completed by:[**2134-12-31**]\""
      ]
     },
     "execution_count": 125,
     "metadata": {},
     "output_type": "execute_result"
    }
   ],
   "source": [
    "data_string = neg_df.iloc[2].TEXT\n",
    "data_string"
   ]
  },
  {
   "cell_type": "code",
   "execution_count": 126,
   "id": "25586749",
   "metadata": {},
   "outputs": [],
   "source": [
    "client = Client()\n",
    "model_name =\"gemma3:1b\"\n",
    "your_query = f\"\"\"\n",
    "task: Will this patient be readmitted?\n",
    "format: Yes/No\n",
    "\"\"\"\n",
    "# prompt=f\"\"\"\n",
    "# Discharge Summary of Patient:\n",
    "#  {pos_df.iloc[random.randint(0, len(pos_df) - 1)].TEXT}\n",
    "#  Based on this data, answer the question: {your_query}\n",
    "# \"\"\"\n",
    "prompt = f\"\"\"Discharge Summary of Patients:\n",
    "input example1:  {neg_df.iloc[0].TEXT},\n",
    "ouput example1:No,\n",
    "input example2:  {neg_df.iloc[1].TEXT},\n",
    "ouput example2: No ,\n",
    "input example3:  {neg_df.iloc[2].TEXT},\n",
    "ouput example3:No ,\n",
    "input example4:  {neg_df.iloc[len(neg_df) - 3].TEXT},\n",
    "ouput example4:No,\n",
    "input example5:  {neg_df.iloc[len(neg_df) - 2].TEXT},\n",
    "ouput example5: No ,\n",
    "input example6:  {neg_df.iloc[len(neg_df) - 1].TEXT},\n",
    "ouput example6:No ,\n",
    "Based on this data, answer the question: \n",
    "discarge_summary:{neg_df.iloc[4].TEXT}\n",
    "{your_query}, \n",
    "\"\"\""
   ]
  },
  {
   "cell_type": "code",
   "execution_count": 127,
   "id": "daac9864",
   "metadata": {},
   "outputs": [
    {
     "name": "stdout",
     "output_type": "stream",
     "text": [
      "\n",
      "Ollama's Response:\n",
      "answer: No\n",
      "\n"
     ]
    }
   ],
   "source": [
    "try:\n",
    "    response = client.chat(\n",
    "        model=model_name,\n",
    "        messages=[\n",
    "            {\n",
    "                'role': 'assistant',\n",
    "                'content': prompt,\n",
    "                \n",
    "            },\n",
    "        ]\n",
    "    )\n",
    "    print(\"\\nOllama's Response:\")\n",
    "    print(response['message']['content'])\n",
    "\n",
    "except Exception as e:\n",
    "    print(f\"Error communicating with Ollama: {e}\")"
   ]
  },
  {
   "cell_type": "code",
   "execution_count": 128,
   "id": "2b7315d6",
   "metadata": {},
   "outputs": [],
   "source": [
    "def generate_prompt(strategy, query, examples=None, context=None, chain_of_thought=None):\n",
    "    \"\"\"\n",
    "    Generate a prompt for the Ollama model based on the specified strategy.\n",
    "\n",
    "    Parameters:\n",
    "        strategy (str): The strategy to use ('zero-shot', 'one-shot', 'in-context', 'chain-of-thoughts').\n",
    "        query (str): The query or task to be answered.\n",
    "        examples (list of tuples): Examples for one-shot or in-context learning. Each tuple should contain (input, output).\n",
    "        context (str): Additional context for in-context learning.\n",
    "        chain_of_thought (str): Step-by-step reasoning for chain-of-thoughts.\n",
    "\n",
    "    Returns:\n",
    "        str: The generated prompt.\n",
    "    \"\"\"\n",
    "    query= f\"Generate and provide a mimic {strategy} prompt to know whether a patient will be readmitted or not.This prompt will be feed into AI answering agent. Here is the discarge summary {query}\"\n",
    "    try:\n",
    "        response = client.chat(\n",
    "            model='llama3.2:1b',\n",
    "            messages=[\n",
    "                {\n",
    "                    'role': 'tool',\n",
    "                    'content': query,\n",
    "                    \n",
    "                },\n",
    "            ]\n",
    "        )\n",
    "        print(\"\\nOllama's Response:\")\n",
    "        return response['message']['content']\n",
    "\n",
    "    except Exception as e:\n",
    "        print(f\"Error communicating with Ollama: {e}\")"
   ]
  },
  {
   "cell_type": "code",
   "execution_count": 129,
   "id": "3a9c60cf",
   "metadata": {},
   "outputs": [
    {
     "name": "stdout",
     "output_type": "stream",
     "text": [
      "Admission Date:  [**2154-11-20**]       Discharge Date:  [**2154-11-29**]   Service:  [**Hospital1 **]  HISTORY OF PRESENT ILLNESS:   This is an 85-year-old male with multiple medical problems, who presents with a one day history of pleuritic back pain and shortness of breath.  It began the night prior to admission when he took a deep breath and noticed a pain between his scapulae.  It became progressively worse, to the point where he was unable to take deep breaths.  He had no recent cough, fever, chills, chest pain, headaches, nausea, vomiting, lightheadedness, weakness or dysuria.  His ambulation was limited by claudication, not dyspnea on exertion.  He denies baseline shortness of breath, dyspnea on exertion, paroxysmal nocturnal dyspnea, orthopnea, or lower extremity edema.  He had a recent right upper lobe pneumonia in [**Month (only) 205**], status post a seven day course of levofloxacin with an additional admission in [**Month (only) 216**], as his pneumonia did not clear.  At that point, he had a parapneumonic effusion that was tapped and showed to be exudative.  He received a second course of antibiotics, namely Levaquin and Flagyl, at that time and underwent bronchoscopy to look for an obstructive lesion.  The bronchoscopy revealed an apical right upper lobe endobronchial lesion, but the biopsy and bronchoalveolar lavage were negative for malignant cells.  He was followed up by his pulmonologist as an outpatient in [**Month (only) 359**], and was doing well.  He was asymptomatic at that time.  The plan was to repeat a CT scan in [**Month (only) 1096**] to look for resolution of his air space disease.  He presented to the Emergency Room, where he was febrile, and a chest x-ray showed opacification of his right lung, questionable infiltrate vs. effusion.  He was started on levofloxacin and Flagyl and admitted.  PAST MEDICAL HISTORY: 1.  Right upper lobe pneumonia described above, status post one seven day course of levofloxacin and one 14 day course of levofloxacin and Flagyl 2.  History of congestive heart failure with diastolic dysfunction.  An echocardiogram in [**2152-12-30**] showed an ejection fraction of 55%. 3.  Hypertension complicated by chronic renal insufficiency with a baseline creatinine of 1.8 to 2.4, complicated by anemia on Epogen 4.  Iron-deficiency anemia status post an esophagogastroduodenoscopy in [**2154-7-31**] that showed a gastric arteriovenous malformation status post BiPAP cautery. A colonoscopy in [**2154-7-31**] was negative.  Colonoscopy in [**2153-6-30**] revealed an adenomatous polyp that was removed. The colonoscopy in [**2153-6-30**] was done in the setting of a gastrointestinal bleed. 5.  Gastrointestinal bleed x 2, once in [**2153-6-30**], once in [**2154-7-31**], the first time from an adenomatous colonic polyp, the second time from a gastric arteriovenous malformation. 6.  Abdominal aortic aneurysm measuring 6.8 cm currently, not been repaired 7.  Left eye blindness secondary to macular degeneration 8.  Carotid disease with a 90% right internal carotid artery stenosis, status post a left carotid endarterectomy 9.  Osteoarthritis 10. Peripheral neuropathy, likely secondary to alcohol use 11. History of peptic ulcer disease 12. Nephrolithiasis 13. Cholelithiasis  MEDICATIONS: 1.  Lopressor 50 mg twice a day 2.  Lasix 20 mg once daily 3.  Norvasc 10 mg once daily 4.  Aspirin 325 mg once daily 5.  Niferex 50 mg twice a day 6.  Epogen 3000 units every Wednesday  ALLERGIES:   No known drug allergies.  SOCIAL HISTORY:   He lives with his wife and daughter.  [**Name (NI) **] smoked three cigars a day for many years, but quit three months ago.  He drinks two beers and two glasses of brandy every night.  FAMILY HISTORY:   Noncontributory.  He has received his flu shot this year.  REVIEW OF SYSTEMS:   Positive for claudication for the past five to six years, that is unchanged.  PHYSICAL EXAMINATION:   This is an elderly man, in no acute distress, who is febrile with a temperature of 101.4, tachycardic with a heart rate of 106.  His blood pressure is 164/71, and his respiratory rate is 28.  His oxygen saturation is 92% on room air, and improves to 94% on 2 liters nasal cannula.  Head, eyes, ears, nose and throat examination is unremarkable.  He has no jugular venous distention or lymphadenopathy.  His lungs have decreased breath sounds at the right base with dullness and no egophony.  His left lung is clear to auscultation.  His heart is regular, with no murmurs.  The abdomen is distended, which he says is a chronic finding.  It is nontender, with good bowel sounds.  He has no palpable hepatosplenomegaly, although he is quite distended.  He is guaiac negative.  His extremities are without edema and with 1+ distal pulses.  He has no calf tenderness.  He has no lower extremity asymmetry. His neurological examination is nonfocal, with intact cranial nerves, normal sensation, and 5/5 strength in all four extremities.  Chest x-ray reveals an unchanged right upper lobe opacity from his last chest x-ray, and a new right base opacity, question effusion vs. infiltrate.  His left lung is clear. There is no widening of the mediastinum.  Electrocardiogram reveals sinus tachycardia at 108.  He has a right bundle branch block and a left anterior fascicular block.  He has a right ventricular strain pattern with S1 Q3 T3 that is old.  His electrocardiogram is unchanged from his baseline electrocardiogram.  LABORATORY DATA:   He presented with a white count of 22.9, hematocrit of 30.2, and a platelet count of 514.  He also had a left shift with a differential that was 93% polys, 3% lymphs and 3% monos.  His coagulations were within normal limits.  His electrolytes were likewise within normal limits except for a BUN of 34, creatinine of 2.4, and glucose of 160.  His liver function tests were normal.  His amylase and lipase were normal as well.  His albumin was 4.  He ruled out for a myocardial infarction with negative CKs and troponins. His blood cultures were negative.  A cholesterol panel was checked, which revealed a cholesterol of 120, with an HDL of 42 and an LDL of 56.  His triglycerides were 109.  HOSPITAL COURSE:   Mr. [**Known lastname 3075**] was admitted with a recurrent right pneumonia and increased opacity of his right lung with question of effusion.  An ultrasound-guided tap was performed, which drained 1.5 liters of fluid.  He was changed to ceftriaxone and Flagyl, given his two previous courses of levofloxacin.  A chest CT was also obtained to evaluate his effusion, which was shown to be a loculated complicated one. His pleural fluid revealed an empyema that was growing alpha streptococcus.  On [**11-23**], he underwent thoracotomy with decortication for treatment of his empyema.  Cytology, cell block, intraoperative bronchoscopy and biopsies all were negative for malignancy.  Given that he was growing streptococcus, he was changed to penicillin-G for a two week course.  A PICC line was placed for access.  He was also ruled out for a myocardial infarction.  During his stay, he was continued on his Lopressor, Norvasc and aspirin.  His aspirin was held preoperatively and then restarted afterwards.  His creatinine increased from his baseline to 3.0 due to pre-renal azotemia.  He responded well to intravenous fluids, and his creatinine decreased to his baseline by the time of discharge.  He has iron-deficiency anemia secondary to gastrointestinal bleed.  His hematocrit remained stable during his hospitalization, but after his surgery, he was quite fatigued, and so he was transfused two units.  Postoperatively, his chest tubes were removed after they had minimal drainage with no evidence of air leak.  He suffered from delirium postoperatively, which was likely multifactorial, related to pain medication, anesthesia, infection, and distress from surgery.  It resolved slowly, with an improvement in his mental status to baseline. Low dose Haldol effectively treated his acute symptoms.  CONDITION ON DISCHARGE:   Improved.  DISCHARGE STATUS:  To [**Hospital 3058**] rehabilitation for strengthening postoperatively.  He will need to follow up with his pulmonologist, Dr. [**Last Name (STitle) 2146**], in two to four weeks. He may need to follow up with Interventional Pulmonary for a repeat bronchoscopy in four to six weeks.  DISCHARGE DIAGNOSIS: 1.  Alpha streptococcal pneumonia with loculated empyema status post decortication 2.  Hypertension complicated by chronic renal insufficiency 3.  Diastolic dysfunction 4.  Iron-deficiency anemia from gastrointestinal bleed 5.  Abdominal aortic aneurysm 6.  Left eye blindness secondary to macular degeneration  DISCHARGE MEDICATIONS: 1.  Lopressor 50 mg twice a day 2.  Lasix 20 mg once daily 3.  Norvasc 10 mg once daily 4.  Aspirin 325 mg once daily 5.  Niferex 50 mg twice a day 6.  Epogen 3000 units every Wednesday 7.  Penicillin-G 3 million units intravenously every four hours until [**2154-12-10**]                                 [**Name6 (MD) 251**] [**Name8 (MD) **], M.D.  [**MD Number(1) 910**]  Dictated By:[**Name8 (MD) 1552**] MEDQUIST36  D:  [**2154-11-28**]  23:55 T:  [**2154-11-29**]  00:28 JOB#:  [**Job Number 11731**] 1 1 1 R  \n"
     ]
    }
   ],
   "source": [
    "print(pos_df.iloc[200].TEXT)"
   ]
  },
  {
   "cell_type": "code",
   "execution_count": null,
   "id": "9c2f52b6",
   "metadata": {},
   "outputs": [
    {
     "name": "stdout",
     "output_type": "stream",
     "text": [
      "\n",
      "Ollama's Response:\n",
      "I can provide a mimic few-shot prompt for the AI answering agent.\n",
      "\n",
      "Here's a possible prompt:\n",
      "\n",
      "\"Generate a medical diagnosis and treatment plan for a patient with metastatic adenocarcinoma of unclear primary, likely lung cancer, who has developed pulmonary edema and congestive heart failure. The patient is 74 years old with a history of previous XRT for supraclavicular lymph node metastases, chronic obstructive pulmonary disease (COPD), and hypertension. The patient's condition was stabilized on multiple medications, including Digoxin, Coumadin, Lasix, Zantac, Lipitor, Valsartan, Hydrochlorothiazide, and Toprol XL.\"\n",
      "\n",
      "This prompt provides the following information:\n",
      "\n",
      "* The patient's medical history and current symptoms\n",
      "* The patient's age, sex, and service information\n",
      "* The diagnosis of metastatic adenocarcinoma of unclear primary, likely lung cancer\n",
      "* The development of pulmonary edema and congestive heart failure\n",
      "* The patient's medications and treatment plan\n",
      "\n",
      "The prompt is short and concise, which would be suitable for a few-shot prompting scenario. It also provides enough information for the AI answering agent to generate a diagnosis and treatment plan, while avoiding excessive or unnecessary information that may not be relevant to the patient's condition.\n"
     ]
    }
   ],
   "source": [
    "prompt=generate_prompt('chain-of-thoughts',neg_df.iloc[200].TEXT)\n",
    "print(prompt)\n"
   ]
  },
  {
   "cell_type": "code",
   "execution_count": 141,
   "id": "e4be5682",
   "metadata": {},
   "outputs": [],
   "source": [
    "def generate_response(prompt):\n",
    "    try:\n",
    "        response = client.chat(\n",
    "            model='gemma3:1b',\n",
    "            messages=[\n",
    "                {\n",
    "                    'role': 'user',\n",
    "                    'content': prompt,\n",
    "                },\n",
    "            ]\n",
    "        )\n",
    "        print(\"\\nOllama's Response:\")\n",
    "        print(response['message']['content'])\n",
    "\n",
    "    except Exception as e:\n",
    "        print(f\"Error communicating with Ollama: {e}\")"
   ]
  },
  {
   "cell_type": "code",
   "execution_count": 142,
   "id": "d1382d18",
   "metadata": {},
   "outputs": [],
   "source": [
    "your_query = f\"\"\"\n",
    "task: Will this patient be readmitted?\n",
    "format: Yes/No\n",
    "\"\"\"\n",
    "prompt=f\"\"\"\n",
    "{prompt}\n",
    " Based on this data, answer the question: {your_query}\n",
    "\"\"\""
   ]
  },
  {
   "cell_type": "code",
   "execution_count": 143,
   "id": "94bd599b",
   "metadata": {},
   "outputs": [
    {
     "name": "stdout",
     "output_type": "stream",
     "text": [
      "\n",
      "Ollama's Response:\n",
      "No\n",
      "\n"
     ]
    }
   ],
   "source": [
    "generate_response(prompt)"
   ]
  },
  {
   "cell_type": "code",
   "execution_count": 134,
   "id": "d5534765",
   "metadata": {},
   "outputs": [
    {
     "name": "stderr",
     "output_type": "stream",
     "text": [
      "c:\\Users\\ajays\\anaconda3\\envs\\py311_cuda_env\\Lib\\site-packages\\spacy\\util.py:910: UserWarning: [W095] Model 'en_ner_bc5cdr_md' (0.4.0) was trained with spaCy v3.0.1 and may not be 100% compatible with the current version (3.7.5). If you see errors or degraded performance, download a newer compatible model or retrain your custom model with the current spaCy version. For more details and available updates, run: python -m spacy validate\n",
      "  warnings.warn(warn_msg)\n"
     ]
    }
   ],
   "source": [
    "from spacy import displacy\n",
    "import spacy\n",
    "spacy.require_gpu()\n",
    "nlp = spacy.load(\"en_ner_bc5cdr_md\")\n",
    "def visualize_entities(data):\n",
    "    doc = []\n",
    "    doc = nlp(data)  \n",
    "    displacy.render(doc, style=\"ent\", jupyter=True)\n",
    "    print(\"****************************************************************************************************\")"
   ]
  },
  {
   "cell_type": "code",
   "execution_count": 144,
   "id": "bde621a5",
   "metadata": {},
   "outputs": [
    {
     "data": {
      "text/html": [
       "<span class=\"tex2jax_ignore\"><div class=\"entities\" style=\"line-height: 2.5; direction: ltr\"><br>I can provide a mimic \n",
       "<mark class=\"entity\" style=\"background: #ddd; padding: 0.45em 0.6em; margin: 0 0.25em; line-height: 1; border-radius: 0.35em;\">\n",
       "    few-shot\n",
       "    <span style=\"font-size: 0.8em; font-weight: bold; line-height: 1; border-radius: 0.35em; vertical-align: middle; margin-left: 0.5rem\">CHEMICAL</span>\n",
       "</mark>\n",
       " prompt for the AI answering agent.<br><br>Here's a possible prompt:<br><br>&quot;Generate a medical diagnosis and treatment plan for a patient with metastatic \n",
       "<mark class=\"entity\" style=\"background: #ddd; padding: 0.45em 0.6em; margin: 0 0.25em; line-height: 1; border-radius: 0.35em;\">\n",
       "    adenocarcinoma of unclear primary\n",
       "    <span style=\"font-size: 0.8em; font-weight: bold; line-height: 1; border-radius: 0.35em; vertical-align: middle; margin-left: 0.5rem\">DISEASE</span>\n",
       "</mark>\n",
       ", likely \n",
       "<mark class=\"entity\" style=\"background: #ddd; padding: 0.45em 0.6em; margin: 0 0.25em; line-height: 1; border-radius: 0.35em;\">\n",
       "    lung cancer\n",
       "    <span style=\"font-size: 0.8em; font-weight: bold; line-height: 1; border-radius: 0.35em; vertical-align: middle; margin-left: 0.5rem\">DISEASE</span>\n",
       "</mark>\n",
       ", who has developed \n",
       "<mark class=\"entity\" style=\"background: #ddd; padding: 0.45em 0.6em; margin: 0 0.25em; line-height: 1; border-radius: 0.35em;\">\n",
       "    pulmonary edema\n",
       "    <span style=\"font-size: 0.8em; font-weight: bold; line-height: 1; border-radius: 0.35em; vertical-align: middle; margin-left: 0.5rem\">DISEASE</span>\n",
       "</mark>\n",
       " and \n",
       "<mark class=\"entity\" style=\"background: #ddd; padding: 0.45em 0.6em; margin: 0 0.25em; line-height: 1; border-radius: 0.35em;\">\n",
       "    congestive heart failure\n",
       "    <span style=\"font-size: 0.8em; font-weight: bold; line-height: 1; border-radius: 0.35em; vertical-align: middle; margin-left: 0.5rem\">DISEASE</span>\n",
       "</mark>\n",
       ". The patient is 74 years old with a history of previous \n",
       "<mark class=\"entity\" style=\"background: #ddd; padding: 0.45em 0.6em; margin: 0 0.25em; line-height: 1; border-radius: 0.35em;\">\n",
       "    XRT\n",
       "    <span style=\"font-size: 0.8em; font-weight: bold; line-height: 1; border-radius: 0.35em; vertical-align: middle; margin-left: 0.5rem\">CHEMICAL</span>\n",
       "</mark>\n",
       " for supraclavicular lymph node metastases, \n",
       "<mark class=\"entity\" style=\"background: #ddd; padding: 0.45em 0.6em; margin: 0 0.25em; line-height: 1; border-radius: 0.35em;\">\n",
       "    chronic obstructive pulmonary disease\n",
       "    <span style=\"font-size: 0.8em; font-weight: bold; line-height: 1; border-radius: 0.35em; vertical-align: middle; margin-left: 0.5rem\">DISEASE</span>\n",
       "</mark>\n",
       " (\n",
       "<mark class=\"entity\" style=\"background: #ddd; padding: 0.45em 0.6em; margin: 0 0.25em; line-height: 1; border-radius: 0.35em;\">\n",
       "    COPD\n",
       "    <span style=\"font-size: 0.8em; font-weight: bold; line-height: 1; border-radius: 0.35em; vertical-align: middle; margin-left: 0.5rem\">DISEASE</span>\n",
       "</mark>\n",
       "), and \n",
       "<mark class=\"entity\" style=\"background: #ddd; padding: 0.45em 0.6em; margin: 0 0.25em; line-height: 1; border-radius: 0.35em;\">\n",
       "    hypertension\n",
       "    <span style=\"font-size: 0.8em; font-weight: bold; line-height: 1; border-radius: 0.35em; vertical-align: middle; margin-left: 0.5rem\">DISEASE</span>\n",
       "</mark>\n",
       ". The patient's condition was stabilized on multiple medications, including \n",
       "<mark class=\"entity\" style=\"background: #ddd; padding: 0.45em 0.6em; margin: 0 0.25em; line-height: 1; border-radius: 0.35em;\">\n",
       "    Digoxin\n",
       "    <span style=\"font-size: 0.8em; font-weight: bold; line-height: 1; border-radius: 0.35em; vertical-align: middle; margin-left: 0.5rem\">CHEMICAL</span>\n",
       "</mark>\n",
       ", Coumadin, \n",
       "<mark class=\"entity\" style=\"background: #ddd; padding: 0.45em 0.6em; margin: 0 0.25em; line-height: 1; border-radius: 0.35em;\">\n",
       "    Lasix\n",
       "    <span style=\"font-size: 0.8em; font-weight: bold; line-height: 1; border-radius: 0.35em; vertical-align: middle; margin-left: 0.5rem\">CHEMICAL</span>\n",
       "</mark>\n",
       ", \n",
       "<mark class=\"entity\" style=\"background: #ddd; padding: 0.45em 0.6em; margin: 0 0.25em; line-height: 1; border-radius: 0.35em;\">\n",
       "    Zantac\n",
       "    <span style=\"font-size: 0.8em; font-weight: bold; line-height: 1; border-radius: 0.35em; vertical-align: middle; margin-left: 0.5rem\">CHEMICAL</span>\n",
       "</mark>\n",
       ", \n",
       "<mark class=\"entity\" style=\"background: #ddd; padding: 0.45em 0.6em; margin: 0 0.25em; line-height: 1; border-radius: 0.35em;\">\n",
       "    Lipitor\n",
       "    <span style=\"font-size: 0.8em; font-weight: bold; line-height: 1; border-radius: 0.35em; vertical-align: middle; margin-left: 0.5rem\">CHEMICAL</span>\n",
       "</mark>\n",
       ", \n",
       "<mark class=\"entity\" style=\"background: #ddd; padding: 0.45em 0.6em; margin: 0 0.25em; line-height: 1; border-radius: 0.35em;\">\n",
       "    Valsartan\n",
       "    <span style=\"font-size: 0.8em; font-weight: bold; line-height: 1; border-radius: 0.35em; vertical-align: middle; margin-left: 0.5rem\">CHEMICAL</span>\n",
       "</mark>\n",
       ", \n",
       "<mark class=\"entity\" style=\"background: #ddd; padding: 0.45em 0.6em; margin: 0 0.25em; line-height: 1; border-radius: 0.35em;\">\n",
       "    Hydrochlorothiazide\n",
       "    <span style=\"font-size: 0.8em; font-weight: bold; line-height: 1; border-radius: 0.35em; vertical-align: middle; margin-left: 0.5rem\">CHEMICAL</span>\n",
       "</mark>\n",
       ", and \n",
       "<mark class=\"entity\" style=\"background: #ddd; padding: 0.45em 0.6em; margin: 0 0.25em; line-height: 1; border-radius: 0.35em;\">\n",
       "    Toprol\n",
       "    <span style=\"font-size: 0.8em; font-weight: bold; line-height: 1; border-radius: 0.35em; vertical-align: middle; margin-left: 0.5rem\">CHEMICAL</span>\n",
       "</mark>\n",
       " XL.&quot;<br><br>This prompt provides the following information:<br><br>* The patient's medical history and current symptoms<br>* The patient's age, sex, and service information<br>* The diagnosis of metastatic \n",
       "<mark class=\"entity\" style=\"background: #ddd; padding: 0.45em 0.6em; margin: 0 0.25em; line-height: 1; border-radius: 0.35em;\">\n",
       "    adenocarcinoma of unclear primary\n",
       "    <span style=\"font-size: 0.8em; font-weight: bold; line-height: 1; border-radius: 0.35em; vertical-align: middle; margin-left: 0.5rem\">DISEASE</span>\n",
       "</mark>\n",
       ", likely \n",
       "<mark class=\"entity\" style=\"background: #ddd; padding: 0.45em 0.6em; margin: 0 0.25em; line-height: 1; border-radius: 0.35em;\">\n",
       "    lung cancer\n",
       "    <span style=\"font-size: 0.8em; font-weight: bold; line-height: 1; border-radius: 0.35em; vertical-align: middle; margin-left: 0.5rem\">DISEASE</span>\n",
       "</mark>\n",
       "<br>* The development of \n",
       "<mark class=\"entity\" style=\"background: #ddd; padding: 0.45em 0.6em; margin: 0 0.25em; line-height: 1; border-radius: 0.35em;\">\n",
       "    pulmonary edema\n",
       "    <span style=\"font-size: 0.8em; font-weight: bold; line-height: 1; border-radius: 0.35em; vertical-align: middle; margin-left: 0.5rem\">DISEASE</span>\n",
       "</mark>\n",
       " and \n",
       "<mark class=\"entity\" style=\"background: #ddd; padding: 0.45em 0.6em; margin: 0 0.25em; line-height: 1; border-radius: 0.35em;\">\n",
       "    congestive heart failure\n",
       "    <span style=\"font-size: 0.8em; font-weight: bold; line-height: 1; border-radius: 0.35em; vertical-align: middle; margin-left: 0.5rem\">DISEASE</span>\n",
       "</mark>\n",
       "<br>* The patient's medications and treatment plan<br><br>The prompt is short and concise, which would be suitable for a \n",
       "<mark class=\"entity\" style=\"background: #ddd; padding: 0.45em 0.6em; margin: 0 0.25em; line-height: 1; border-radius: 0.35em;\">\n",
       "    few-shot\n",
       "    <span style=\"font-size: 0.8em; font-weight: bold; line-height: 1; border-radius: 0.35em; vertical-align: middle; margin-left: 0.5rem\">CHEMICAL</span>\n",
       "</mark>\n",
       " prompting scenario. It also provides enough information for the AI answering agent to generate a diagnosis and treatment plan, while avoiding excessive or unnecessary information that may not be relevant to the patient's condition.<br> Based on this data, answer the question: <br>task: Will this patient be readmitted?<br>format: Yes/No<br><br></div></span>"
      ],
      "text/plain": [
       "<IPython.core.display.HTML object>"
      ]
     },
     "metadata": {},
     "output_type": "display_data"
    },
    {
     "name": "stdout",
     "output_type": "stream",
     "text": [
      "****************************************************************************************************\n"
     ]
    }
   ],
   "source": [
    "visualize_entities(prompt)"
   ]
  }
 ],
 "metadata": {
  "kernelspec": {
   "display_name": "py311_cuda_env",
   "language": "python",
   "name": "python3"
  },
  "language_info": {
   "codemirror_mode": {
    "name": "ipython",
    "version": 3
   },
   "file_extension": ".py",
   "mimetype": "text/x-python",
   "name": "python",
   "nbconvert_exporter": "python",
   "pygments_lexer": "ipython3",
   "version": "3.11.11"
  }
 },
 "nbformat": 4,
 "nbformat_minor": 5
}
